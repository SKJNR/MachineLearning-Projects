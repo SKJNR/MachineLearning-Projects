{
 "cells": [
  {
   "cell_type": "markdown",
   "metadata": {},
   "source": [
    "# Importing Libraries"
   ]
  },
  {
   "cell_type": "code",
   "execution_count": 1,
   "metadata": {},
   "outputs": [],
   "source": [
    "# linear algebra\n",
    "import numpy as np \n",
    "\n",
    "# data processing\n",
    "import pandas as pd \n",
    "\n",
    "# data visualization\n",
    "import seaborn as sns\n",
    "%matplotlib inline\n",
    "from matplotlib import pyplot as plt\n",
    "from matplotlib import style\n",
    "\n",
    "# Algorithms\n",
    "from collections import Counter\n",
    "import re\n",
    "\n",
    "from sklearn.svm import SVR\n",
    "from sklearn.svm import SVC, LinearSVC\n",
    "from sklearn.linear_model import LinearRegression,LogisticRegression,RidgeCV\n",
    "from sklearn.tree import DecisionTreeRegressor\n",
    "from sklearn import model_selection\n",
    "from sklearn.model_selection import train_test_split,cross_val_score,GridSearchCV\n",
    "from sklearn import linear_model\n",
    "from sklearn import metrics\n",
    "from sklearn.ensemble import RandomForestRegressor\n",
    "from sklearn.metrics import mean_squared_error,mean_absolute_error,accuracy_score\n",
    "from sklearn.preprocessing import StandardScaler,LabelEncoder\n",
    "\n",
    "from sklearn.model_selection import train_test_split,cross_val_predict\n",
    "\n",
    "import warnings\n",
    "warnings.filterwarnings('ignore')"
   ]
  },
  {
   "cell_type": "markdown",
   "metadata": {},
   "source": [
    "# Getting Data"
   ]
  },
  {
   "cell_type": "code",
   "execution_count": 2,
   "metadata": {},
   "outputs": [],
   "source": [
    "fees=pd.read_excel('Final_Train.xlsx')"
   ]
  },
  {
   "cell_type": "code",
   "execution_count": 3,
   "metadata": {},
   "outputs": [
    {
     "data": {
      "text/html": [
       "<div>\n",
       "<style scoped>\n",
       "    .dataframe tbody tr th:only-of-type {\n",
       "        vertical-align: middle;\n",
       "    }\n",
       "\n",
       "    .dataframe tbody tr th {\n",
       "        vertical-align: top;\n",
       "    }\n",
       "\n",
       "    .dataframe thead th {\n",
       "        text-align: right;\n",
       "    }\n",
       "</style>\n",
       "<table border=\"1\" class=\"dataframe\">\n",
       "  <thead>\n",
       "    <tr style=\"text-align: right;\">\n",
       "      <th></th>\n",
       "      <th>Qualification</th>\n",
       "      <th>Experience</th>\n",
       "      <th>Rating</th>\n",
       "      <th>Place</th>\n",
       "      <th>Profile</th>\n",
       "      <th>Miscellaneous_Info</th>\n",
       "      <th>Fees</th>\n",
       "    </tr>\n",
       "  </thead>\n",
       "  <tbody>\n",
       "    <tr>\n",
       "      <td>0</td>\n",
       "      <td>BHMS, MD - Homeopathy</td>\n",
       "      <td>24 years experience</td>\n",
       "      <td>100%</td>\n",
       "      <td>Kakkanad, Ernakulam</td>\n",
       "      <td>Homeopath</td>\n",
       "      <td>100% 16 Feedback Kakkanad, Ernakulam</td>\n",
       "      <td>100</td>\n",
       "    </tr>\n",
       "    <tr>\n",
       "      <td>1</td>\n",
       "      <td>BAMS, MD - Ayurveda Medicine</td>\n",
       "      <td>12 years experience</td>\n",
       "      <td>98%</td>\n",
       "      <td>Whitefield, Bangalore</td>\n",
       "      <td>Ayurveda</td>\n",
       "      <td>98% 76 Feedback Whitefield, Bangalore</td>\n",
       "      <td>350</td>\n",
       "    </tr>\n",
       "    <tr>\n",
       "      <td>2</td>\n",
       "      <td>MBBS, MS - Otorhinolaryngology</td>\n",
       "      <td>9 years experience</td>\n",
       "      <td>NaN</td>\n",
       "      <td>Mathikere - BEL, Bangalore</td>\n",
       "      <td>ENT Specialist</td>\n",
       "      <td>NaN</td>\n",
       "      <td>300</td>\n",
       "    </tr>\n",
       "    <tr>\n",
       "      <td>3</td>\n",
       "      <td>BSc - Zoology, BAMS</td>\n",
       "      <td>12 years experience</td>\n",
       "      <td>NaN</td>\n",
       "      <td>Bannerghatta Road, Bangalore</td>\n",
       "      <td>Ayurveda</td>\n",
       "      <td>Bannerghatta Road, Bangalore ₹250 Available on...</td>\n",
       "      <td>250</td>\n",
       "    </tr>\n",
       "    <tr>\n",
       "      <td>4</td>\n",
       "      <td>BAMS</td>\n",
       "      <td>20 years experience</td>\n",
       "      <td>100%</td>\n",
       "      <td>Keelkattalai, Chennai</td>\n",
       "      <td>Ayurveda</td>\n",
       "      <td>100% 4 Feedback Keelkattalai, Chennai</td>\n",
       "      <td>250</td>\n",
       "    </tr>\n",
       "  </tbody>\n",
       "</table>\n",
       "</div>"
      ],
      "text/plain": [
       "                    Qualification           Experience Rating  \\\n",
       "0           BHMS, MD - Homeopathy  24 years experience   100%   \n",
       "1    BAMS, MD - Ayurveda Medicine  12 years experience    98%   \n",
       "2  MBBS, MS - Otorhinolaryngology   9 years experience    NaN   \n",
       "3             BSc - Zoology, BAMS  12 years experience    NaN   \n",
       "4                            BAMS  20 years experience   100%   \n",
       "\n",
       "                          Place         Profile  \\\n",
       "0           Kakkanad, Ernakulam       Homeopath   \n",
       "1         Whitefield, Bangalore        Ayurveda   \n",
       "2    Mathikere - BEL, Bangalore  ENT Specialist   \n",
       "3  Bannerghatta Road, Bangalore        Ayurveda   \n",
       "4         Keelkattalai, Chennai        Ayurveda   \n",
       "\n",
       "                                  Miscellaneous_Info  Fees  \n",
       "0               100% 16 Feedback Kakkanad, Ernakulam   100  \n",
       "1              98% 76 Feedback Whitefield, Bangalore   350  \n",
       "2                                                NaN   300  \n",
       "3  Bannerghatta Road, Bangalore ₹250 Available on...   250  \n",
       "4              100% 4 Feedback Keelkattalai, Chennai   250  "
      ]
     },
     "execution_count": 3,
     "metadata": {},
     "output_type": "execute_result"
    }
   ],
   "source": [
    "fees.head()"
   ]
  },
  {
   "cell_type": "code",
   "execution_count": 4,
   "metadata": {},
   "outputs": [
    {
     "data": {
      "text/plain": [
       "(5961, 7)"
      ]
     },
     "execution_count": 4,
     "metadata": {},
     "output_type": "execute_result"
    }
   ],
   "source": [
    "fees.shape"
   ]
  },
  {
   "cell_type": "markdown",
   "metadata": {},
   "source": [
    "# Data Preprocessing"
   ]
  },
  {
   "cell_type": "code",
   "execution_count": 5,
   "metadata": {},
   "outputs": [
    {
     "data": {
      "text/plain": [
       "<matplotlib.axes._subplots.AxesSubplot at 0x198da0be188>"
      ]
     },
     "execution_count": 5,
     "metadata": {},
     "output_type": "execute_result"
    },
    {
     "data": {
      "image/png": "[encoded data removed]",
      "text/plain": [
       "<Figure size 432x288 with 2 Axes>"
      ]
     },
     "metadata": {
      "needs_background": "light"
     },
     "output_type": "display_data"
    }
   ],
   "source": [
    "sns.heatmap(fees.isnull())"
   ]
  },
  {
   "cell_type": "markdown",
   "metadata": {},
   "source": [
    "From above you can see that htere is outliers present in this dataset ,and next step here is cleaning.."
   ]
  },
  {
   "cell_type": "code",
   "execution_count": 6,
   "metadata": {},
   "outputs": [],
   "source": [
    "fees['City'] =fees['Place'].str.split(', ').str[-1]\n",
    "fees['Area'] = fees['Place'].str.split(', ').str[0]"
   ]
  },
  {
   "cell_type": "code",
   "execution_count": 7,
   "metadata": {},
   "outputs": [
    {
     "data": {
      "text/html": [
       "<div>\n",
       "<style scoped>\n",
       "    .dataframe tbody tr th:only-of-type {\n",
       "        vertical-align: middle;\n",
       "    }\n",
       "\n",
       "    .dataframe tbody tr th {\n",
       "        vertical-align: top;\n",
       "    }\n",
       "\n",
       "    .dataframe thead th {\n",
       "        text-align: right;\n",
       "    }\n",
       "</style>\n",
       "<table border=\"1\" class=\"dataframe\">\n",
       "  <thead>\n",
       "    <tr style=\"text-align: right;\">\n",
       "      <th></th>\n",
       "      <th>Qualification</th>\n",
       "      <th>Experience</th>\n",
       "      <th>Rating</th>\n",
       "      <th>Place</th>\n",
       "      <th>Profile</th>\n",
       "      <th>Miscellaneous_Info</th>\n",
       "      <th>Fees</th>\n",
       "      <th>City</th>\n",
       "      <th>Area</th>\n",
       "    </tr>\n",
       "  </thead>\n",
       "  <tbody>\n",
       "    <tr>\n",
       "      <td>0</td>\n",
       "      <td>BHMS, MD - Homeopathy</td>\n",
       "      <td>24 years experience</td>\n",
       "      <td>100%</td>\n",
       "      <td>Kakkanad, Ernakulam</td>\n",
       "      <td>Homeopath</td>\n",
       "      <td>100% 16 Feedback Kakkanad, Ernakulam</td>\n",
       "      <td>100</td>\n",
       "      <td>Ernakulam</td>\n",
       "      <td>Kakkanad</td>\n",
       "    </tr>\n",
       "    <tr>\n",
       "      <td>1</td>\n",
       "      <td>BAMS, MD - Ayurveda Medicine</td>\n",
       "      <td>12 years experience</td>\n",
       "      <td>98%</td>\n",
       "      <td>Whitefield, Bangalore</td>\n",
       "      <td>Ayurveda</td>\n",
       "      <td>98% 76 Feedback Whitefield, Bangalore</td>\n",
       "      <td>350</td>\n",
       "      <td>Bangalore</td>\n",
       "      <td>Whitefield</td>\n",
       "    </tr>\n",
       "    <tr>\n",
       "      <td>2</td>\n",
       "      <td>MBBS, MS - Otorhinolaryngology</td>\n",
       "      <td>9 years experience</td>\n",
       "      <td>NaN</td>\n",
       "      <td>Mathikere - BEL, Bangalore</td>\n",
       "      <td>ENT Specialist</td>\n",
       "      <td>NaN</td>\n",
       "      <td>300</td>\n",
       "      <td>Bangalore</td>\n",
       "      <td>Mathikere - BEL</td>\n",
       "    </tr>\n",
       "    <tr>\n",
       "      <td>3</td>\n",
       "      <td>BSc - Zoology, BAMS</td>\n",
       "      <td>12 years experience</td>\n",
       "      <td>NaN</td>\n",
       "      <td>Bannerghatta Road, Bangalore</td>\n",
       "      <td>Ayurveda</td>\n",
       "      <td>Bannerghatta Road, Bangalore ₹250 Available on...</td>\n",
       "      <td>250</td>\n",
       "      <td>Bangalore</td>\n",
       "      <td>Bannerghatta Road</td>\n",
       "    </tr>\n",
       "    <tr>\n",
       "      <td>4</td>\n",
       "      <td>BAMS</td>\n",
       "      <td>20 years experience</td>\n",
       "      <td>100%</td>\n",
       "      <td>Keelkattalai, Chennai</td>\n",
       "      <td>Ayurveda</td>\n",
       "      <td>100% 4 Feedback Keelkattalai, Chennai</td>\n",
       "      <td>250</td>\n",
       "      <td>Chennai</td>\n",
       "      <td>Keelkattalai</td>\n",
       "    </tr>\n",
       "  </tbody>\n",
       "</table>\n",
       "</div>"
      ],
      "text/plain": [
       "                    Qualification           Experience Rating  \\\n",
       "0           BHMS, MD - Homeopathy  24 years experience   100%   \n",
       "1    BAMS, MD - Ayurveda Medicine  12 years experience    98%   \n",
       "2  MBBS, MS - Otorhinolaryngology   9 years experience    NaN   \n",
       "3             BSc - Zoology, BAMS  12 years experience    NaN   \n",
       "4                            BAMS  20 years experience   100%   \n",
       "\n",
       "                          Place         Profile  \\\n",
       "0           Kakkanad, Ernakulam       Homeopath   \n",
       "1         Whitefield, Bangalore        Ayurveda   \n",
       "2    Mathikere - BEL, Bangalore  ENT Specialist   \n",
       "3  Bannerghatta Road, Bangalore        Ayurveda   \n",
       "4         Keelkattalai, Chennai        Ayurveda   \n",
       "\n",
       "                                  Miscellaneous_Info  Fees       City  \\\n",
       "0               100% 16 Feedback Kakkanad, Ernakulam   100  Ernakulam   \n",
       "1              98% 76 Feedback Whitefield, Bangalore   350  Bangalore   \n",
       "2                                                NaN   300  Bangalore   \n",
       "3  Bannerghatta Road, Bangalore ₹250 Available on...   250  Bangalore   \n",
       "4              100% 4 Feedback Keelkattalai, Chennai   250    Chennai   \n",
       "\n",
       "                Area  \n",
       "0           Kakkanad  \n",
       "1         Whitefield  \n",
       "2    Mathikere - BEL  \n",
       "3  Bannerghatta Road  \n",
       "4       Keelkattalai  "
      ]
     },
     "execution_count": 7,
     "metadata": {},
     "output_type": "execute_result"
    }
   ],
   "source": [
    "fees.head()"
   ]
  },
  {
   "cell_type": "code",
   "execution_count": 8,
   "metadata": {},
   "outputs": [],
   "source": [
    "fees=fees.drop('Place',axis=1)"
   ]
  },
  {
   "cell_type": "code",
   "execution_count": 9,
   "metadata": {},
   "outputs": [
    {
     "data": {
      "text/html": [
       "<div>\n",
       "<style scoped>\n",
       "    .dataframe tbody tr th:only-of-type {\n",
       "        vertical-align: middle;\n",
       "    }\n",
       "\n",
       "    .dataframe tbody tr th {\n",
       "        vertical-align: top;\n",
       "    }\n",
       "\n",
       "    .dataframe thead th {\n",
       "        text-align: right;\n",
       "    }\n",
       "</style>\n",
       "<table border=\"1\" class=\"dataframe\">\n",
       "  <thead>\n",
       "    <tr style=\"text-align: right;\">\n",
       "      <th></th>\n",
       "      <th>Qualification</th>\n",
       "      <th>Experience</th>\n",
       "      <th>Rating</th>\n",
       "      <th>Profile</th>\n",
       "      <th>Miscellaneous_Info</th>\n",
       "      <th>Fees</th>\n",
       "      <th>City</th>\n",
       "      <th>Area</th>\n",
       "    </tr>\n",
       "  </thead>\n",
       "  <tbody>\n",
       "    <tr>\n",
       "      <td>0</td>\n",
       "      <td>BHMS, MD - Homeopathy</td>\n",
       "      <td>24 years experience</td>\n",
       "      <td>100%</td>\n",
       "      <td>Homeopath</td>\n",
       "      <td>100% 16 Feedback Kakkanad, Ernakulam</td>\n",
       "      <td>100</td>\n",
       "      <td>Ernakulam</td>\n",
       "      <td>Kakkanad</td>\n",
       "    </tr>\n",
       "    <tr>\n",
       "      <td>1</td>\n",
       "      <td>BAMS, MD - Ayurveda Medicine</td>\n",
       "      <td>12 years experience</td>\n",
       "      <td>98%</td>\n",
       "      <td>Ayurveda</td>\n",
       "      <td>98% 76 Feedback Whitefield, Bangalore</td>\n",
       "      <td>350</td>\n",
       "      <td>Bangalore</td>\n",
       "      <td>Whitefield</td>\n",
       "    </tr>\n",
       "    <tr>\n",
       "      <td>2</td>\n",
       "      <td>MBBS, MS - Otorhinolaryngology</td>\n",
       "      <td>9 years experience</td>\n",
       "      <td>NaN</td>\n",
       "      <td>ENT Specialist</td>\n",
       "      <td>NaN</td>\n",
       "      <td>300</td>\n",
       "      <td>Bangalore</td>\n",
       "      <td>Mathikere - BEL</td>\n",
       "    </tr>\n",
       "    <tr>\n",
       "      <td>3</td>\n",
       "      <td>BSc - Zoology, BAMS</td>\n",
       "      <td>12 years experience</td>\n",
       "      <td>NaN</td>\n",
       "      <td>Ayurveda</td>\n",
       "      <td>Bannerghatta Road, Bangalore ₹250 Available on...</td>\n",
       "      <td>250</td>\n",
       "      <td>Bangalore</td>\n",
       "      <td>Bannerghatta Road</td>\n",
       "    </tr>\n",
       "    <tr>\n",
       "      <td>4</td>\n",
       "      <td>BAMS</td>\n",
       "      <td>20 years experience</td>\n",
       "      <td>100%</td>\n",
       "      <td>Ayurveda</td>\n",
       "      <td>100% 4 Feedback Keelkattalai, Chennai</td>\n",
       "      <td>250</td>\n",
       "      <td>Chennai</td>\n",
       "      <td>Keelkattalai</td>\n",
       "    </tr>\n",
       "  </tbody>\n",
       "</table>\n",
       "</div>"
      ],
      "text/plain": [
       "                    Qualification           Experience Rating         Profile  \\\n",
       "0           BHMS, MD - Homeopathy  24 years experience   100%       Homeopath   \n",
       "1    BAMS, MD - Ayurveda Medicine  12 years experience    98%        Ayurveda   \n",
       "2  MBBS, MS - Otorhinolaryngology   9 years experience    NaN  ENT Specialist   \n",
       "3             BSc - Zoology, BAMS  12 years experience    NaN        Ayurveda   \n",
       "4                            BAMS  20 years experience   100%        Ayurveda   \n",
       "\n",
       "                                  Miscellaneous_Info  Fees       City  \\\n",
       "0               100% 16 Feedback Kakkanad, Ernakulam   100  Ernakulam   \n",
       "1              98% 76 Feedback Whitefield, Bangalore   350  Bangalore   \n",
       "2                                                NaN   300  Bangalore   \n",
       "3  Bannerghatta Road, Bangalore ₹250 Available on...   250  Bangalore   \n",
       "4              100% 4 Feedback Keelkattalai, Chennai   250    Chennai   \n",
       "\n",
       "                Area  \n",
       "0           Kakkanad  \n",
       "1         Whitefield  \n",
       "2    Mathikere - BEL  \n",
       "3  Bannerghatta Road  \n",
       "4       Keelkattalai  "
      ]
     },
     "execution_count": 9,
     "metadata": {},
     "output_type": "execute_result"
    }
   ],
   "source": [
    "fees.head()"
   ]
  },
  {
   "cell_type": "code",
   "execution_count": 10,
   "metadata": {},
   "outputs": [
    {
     "data": {
      "text/plain": [
       "<matplotlib.axes._subplots.AxesSubplot at 0x198d9f98a08>"
      ]
     },
     "execution_count": 10,
     "metadata": {},
     "output_type": "execute_result"
    },
    {
     "data": {
      "image/png": "[encoded data removed]",
      "text/plain": [
       "<Figure size 432x288 with 1 Axes>"
      ]
     },
     "metadata": {
      "needs_background": "light"
     },
     "output_type": "display_data"
    }
   ],
   "source": [
    "fees['Profile'].value_counts(normalize=True).plot(kind='barh')"
   ]
  },
  {
   "cell_type": "code",
   "execution_count": 11,
   "metadata": {},
   "outputs": [
    {
     "data": {
      "text/plain": [
       "City\n",
       "Bangalore             1258\n",
       "Chennai                855\n",
       "Coimbatore             228\n",
       "Delhi                 1185\n",
       "Ernakulam              153\n",
       "Hyderabad              951\n",
       "Mumbai                1219\n",
       "Thiruvananthapuram      86\n",
       "e                        1\n",
       "Name: Qualification, dtype: int64"
      ]
     },
     "execution_count": 11,
     "metadata": {},
     "output_type": "execute_result"
    }
   ],
   "source": [
    "count = fees.groupby(['City']).count()\n",
    "count.Qualification\n"
   ]
  },
  {
   "cell_type": "code",
   "execution_count": 12,
   "metadata": {},
   "outputs": [
    {
     "data": {
      "text/plain": [
       "Int64Index([3980], dtype='int64')"
      ]
     },
     "execution_count": 12,
     "metadata": {},
     "output_type": "execute_result"
    }
   ],
   "source": [
    "val = fees[fees['City'] == 'e'].index\n",
    "val"
   ]
  },
  {
   "cell_type": "code",
   "execution_count": 13,
   "metadata": {},
   "outputs": [],
   "source": [
    "fees = fees.drop([3980])"
   ]
  },
  {
   "cell_type": "code",
   "execution_count": 14,
   "metadata": {},
   "outputs": [],
   "source": [
    "fees['Experience'] = fees['Experience'].apply(lambda x : re.findall(r'^\\d\\d?', x)[0]).astype(int)"
   ]
  },
  {
   "cell_type": "code",
   "execution_count": 15,
   "metadata": {},
   "outputs": [],
   "source": [
    "fees['Rating'].fillna('0%',inplace = True)\n",
    "fees['Rating'] = fees['Rating'].str[0:-1].astype(float)"
   ]
  },
  {
   "cell_type": "code",
   "execution_count": 16,
   "metadata": {},
   "outputs": [
    {
     "data": {
      "text/html": [
       "<div>\n",
       "<style scoped>\n",
       "    .dataframe tbody tr th:only-of-type {\n",
       "        vertical-align: middle;\n",
       "    }\n",
       "\n",
       "    .dataframe tbody tr th {\n",
       "        vertical-align: top;\n",
       "    }\n",
       "\n",
       "    .dataframe thead th {\n",
       "        text-align: right;\n",
       "    }\n",
       "</style>\n",
       "<table border=\"1\" class=\"dataframe\">\n",
       "  <thead>\n",
       "    <tr style=\"text-align: right;\">\n",
       "      <th></th>\n",
       "      <th>Qualification</th>\n",
       "      <th>Experience</th>\n",
       "      <th>Rating</th>\n",
       "      <th>Profile</th>\n",
       "      <th>Miscellaneous_Info</th>\n",
       "      <th>Fees</th>\n",
       "      <th>City</th>\n",
       "      <th>Area</th>\n",
       "    </tr>\n",
       "  </thead>\n",
       "  <tbody>\n",
       "    <tr>\n",
       "      <td>0</td>\n",
       "      <td>BHMS, MD - Homeopathy</td>\n",
       "      <td>24</td>\n",
       "      <td>100.0</td>\n",
       "      <td>Homeopath</td>\n",
       "      <td>100% 16 Feedback Kakkanad, Ernakulam</td>\n",
       "      <td>100</td>\n",
       "      <td>Ernakulam</td>\n",
       "      <td>Kakkanad</td>\n",
       "    </tr>\n",
       "    <tr>\n",
       "      <td>1</td>\n",
       "      <td>BAMS, MD - Ayurveda Medicine</td>\n",
       "      <td>12</td>\n",
       "      <td>98.0</td>\n",
       "      <td>Ayurveda</td>\n",
       "      <td>98% 76 Feedback Whitefield, Bangalore</td>\n",
       "      <td>350</td>\n",
       "      <td>Bangalore</td>\n",
       "      <td>Whitefield</td>\n",
       "    </tr>\n",
       "    <tr>\n",
       "      <td>2</td>\n",
       "      <td>MBBS, MS - Otorhinolaryngology</td>\n",
       "      <td>9</td>\n",
       "      <td>0.0</td>\n",
       "      <td>ENT Specialist</td>\n",
       "      <td>NaN</td>\n",
       "      <td>300</td>\n",
       "      <td>Bangalore</td>\n",
       "      <td>Mathikere - BEL</td>\n",
       "    </tr>\n",
       "    <tr>\n",
       "      <td>3</td>\n",
       "      <td>BSc - Zoology, BAMS</td>\n",
       "      <td>12</td>\n",
       "      <td>0.0</td>\n",
       "      <td>Ayurveda</td>\n",
       "      <td>Bannerghatta Road, Bangalore ₹250 Available on...</td>\n",
       "      <td>250</td>\n",
       "      <td>Bangalore</td>\n",
       "      <td>Bannerghatta Road</td>\n",
       "    </tr>\n",
       "    <tr>\n",
       "      <td>4</td>\n",
       "      <td>BAMS</td>\n",
       "      <td>20</td>\n",
       "      <td>100.0</td>\n",
       "      <td>Ayurveda</td>\n",
       "      <td>100% 4 Feedback Keelkattalai, Chennai</td>\n",
       "      <td>250</td>\n",
       "      <td>Chennai</td>\n",
       "      <td>Keelkattalai</td>\n",
       "    </tr>\n",
       "  </tbody>\n",
       "</table>\n",
       "</div>"
      ],
      "text/plain": [
       "                    Qualification  Experience  Rating         Profile  \\\n",
       "0           BHMS, MD - Homeopathy          24   100.0       Homeopath   \n",
       "1    BAMS, MD - Ayurveda Medicine          12    98.0        Ayurveda   \n",
       "2  MBBS, MS - Otorhinolaryngology           9     0.0  ENT Specialist   \n",
       "3             BSc - Zoology, BAMS          12     0.0        Ayurveda   \n",
       "4                            BAMS          20   100.0        Ayurveda   \n",
       "\n",
       "                                  Miscellaneous_Info  Fees       City  \\\n",
       "0               100% 16 Feedback Kakkanad, Ernakulam   100  Ernakulam   \n",
       "1              98% 76 Feedback Whitefield, Bangalore   350  Bangalore   \n",
       "2                                                NaN   300  Bangalore   \n",
       "3  Bannerghatta Road, Bangalore ₹250 Available on...   250  Bangalore   \n",
       "4              100% 4 Feedback Keelkattalai, Chennai   250    Chennai   \n",
       "\n",
       "                Area  \n",
       "0           Kakkanad  \n",
       "1         Whitefield  \n",
       "2    Mathikere - BEL  \n",
       "3  Bannerghatta Road  \n",
       "4       Keelkattalai  "
      ]
     },
     "execution_count": 16,
     "metadata": {},
     "output_type": "execute_result"
    }
   ],
   "source": [
    "fees.head()"
   ]
  },
  {
   "cell_type": "code",
   "execution_count": 17,
   "metadata": {},
   "outputs": [
    {
     "data": {
      "text/plain": [
       "array(['Homeopath', 'Ayurveda', 'ENT Specialist', 'Dentist',\n",
       "       'General Medicine', 'Dermatologists'], dtype=object)"
      ]
     },
     "execution_count": 17,
     "metadata": {},
     "output_type": "execute_result"
    }
   ],
   "source": [
    "fees['Profile'].unique()"
   ]
  },
  {
   "cell_type": "code",
   "execution_count": 18,
   "metadata": {},
   "outputs": [
    {
     "data": {
      "text/html": [
       "<div>\n",
       "<style scoped>\n",
       "    .dataframe tbody tr th:only-of-type {\n",
       "        vertical-align: middle;\n",
       "    }\n",
       "\n",
       "    .dataframe tbody tr th {\n",
       "        vertical-align: top;\n",
       "    }\n",
       "\n",
       "    .dataframe thead th {\n",
       "        text-align: right;\n",
       "    }\n",
       "</style>\n",
       "<table border=\"1\" class=\"dataframe\">\n",
       "  <thead>\n",
       "    <tr style=\"text-align: right;\">\n",
       "      <th></th>\n",
       "      <th>Qualification</th>\n",
       "      <th>Experience</th>\n",
       "      <th>Rating</th>\n",
       "      <th>Profile</th>\n",
       "      <th>Miscellaneous_Info</th>\n",
       "      <th>Fees</th>\n",
       "      <th>City</th>\n",
       "      <th>Area</th>\n",
       "      <th>Profile_Ayurveda</th>\n",
       "      <th>Profile_Dentist</th>\n",
       "      <th>...</th>\n",
       "      <th>Profile_General Medicine</th>\n",
       "      <th>Profile_Homeopath</th>\n",
       "      <th>City_Bangalore</th>\n",
       "      <th>City_Chennai</th>\n",
       "      <th>City_Coimbatore</th>\n",
       "      <th>City_Delhi</th>\n",
       "      <th>City_Ernakulam</th>\n",
       "      <th>City_Hyderabad</th>\n",
       "      <th>City_Mumbai</th>\n",
       "      <th>City_Thiruvananthapuram</th>\n",
       "    </tr>\n",
       "  </thead>\n",
       "  <tbody>\n",
       "    <tr>\n",
       "      <td>0</td>\n",
       "      <td>BHMS, MD - Homeopathy</td>\n",
       "      <td>24</td>\n",
       "      <td>100.0</td>\n",
       "      <td>Homeopath</td>\n",
       "      <td>100% 16 Feedback Kakkanad, Ernakulam</td>\n",
       "      <td>100</td>\n",
       "      <td>Ernakulam</td>\n",
       "      <td>Kakkanad</td>\n",
       "      <td>0</td>\n",
       "      <td>0</td>\n",
       "      <td>...</td>\n",
       "      <td>0</td>\n",
       "      <td>1</td>\n",
       "      <td>0</td>\n",
       "      <td>0</td>\n",
       "      <td>0</td>\n",
       "      <td>0</td>\n",
       "      <td>1</td>\n",
       "      <td>0</td>\n",
       "      <td>0</td>\n",
       "      <td>0</td>\n",
       "    </tr>\n",
       "    <tr>\n",
       "      <td>1</td>\n",
       "      <td>BAMS, MD - Ayurveda Medicine</td>\n",
       "      <td>12</td>\n",
       "      <td>98.0</td>\n",
       "      <td>Ayurveda</td>\n",
       "      <td>98% 76 Feedback Whitefield, Bangalore</td>\n",
       "      <td>350</td>\n",
       "      <td>Bangalore</td>\n",
       "      <td>Whitefield</td>\n",
       "      <td>1</td>\n",
       "      <td>0</td>\n",
       "      <td>...</td>\n",
       "      <td>0</td>\n",
       "      <td>0</td>\n",
       "      <td>1</td>\n",
       "      <td>0</td>\n",
       "      <td>0</td>\n",
       "      <td>0</td>\n",
       "      <td>0</td>\n",
       "      <td>0</td>\n",
       "      <td>0</td>\n",
       "      <td>0</td>\n",
       "    </tr>\n",
       "    <tr>\n",
       "      <td>2</td>\n",
       "      <td>MBBS, MS - Otorhinolaryngology</td>\n",
       "      <td>9</td>\n",
       "      <td>0.0</td>\n",
       "      <td>ENT Specialist</td>\n",
       "      <td>NaN</td>\n",
       "      <td>300</td>\n",
       "      <td>Bangalore</td>\n",
       "      <td>Mathikere - BEL</td>\n",
       "      <td>0</td>\n",
       "      <td>0</td>\n",
       "      <td>...</td>\n",
       "      <td>0</td>\n",
       "      <td>0</td>\n",
       "      <td>1</td>\n",
       "      <td>0</td>\n",
       "      <td>0</td>\n",
       "      <td>0</td>\n",
       "      <td>0</td>\n",
       "      <td>0</td>\n",
       "      <td>0</td>\n",
       "      <td>0</td>\n",
       "    </tr>\n",
       "    <tr>\n",
       "      <td>3</td>\n",
       "      <td>BSc - Zoology, BAMS</td>\n",
       "      <td>12</td>\n",
       "      <td>0.0</td>\n",
       "      <td>Ayurveda</td>\n",
       "      <td>Bannerghatta Road, Bangalore ₹250 Available on...</td>\n",
       "      <td>250</td>\n",
       "      <td>Bangalore</td>\n",
       "      <td>Bannerghatta Road</td>\n",
       "      <td>1</td>\n",
       "      <td>0</td>\n",
       "      <td>...</td>\n",
       "      <td>0</td>\n",
       "      <td>0</td>\n",
       "      <td>1</td>\n",
       "      <td>0</td>\n",
       "      <td>0</td>\n",
       "      <td>0</td>\n",
       "      <td>0</td>\n",
       "      <td>0</td>\n",
       "      <td>0</td>\n",
       "      <td>0</td>\n",
       "    </tr>\n",
       "    <tr>\n",
       "      <td>4</td>\n",
       "      <td>BAMS</td>\n",
       "      <td>20</td>\n",
       "      <td>100.0</td>\n",
       "      <td>Ayurveda</td>\n",
       "      <td>100% 4 Feedback Keelkattalai, Chennai</td>\n",
       "      <td>250</td>\n",
       "      <td>Chennai</td>\n",
       "      <td>Keelkattalai</td>\n",
       "      <td>1</td>\n",
       "      <td>0</td>\n",
       "      <td>...</td>\n",
       "      <td>0</td>\n",
       "      <td>0</td>\n",
       "      <td>0</td>\n",
       "      <td>1</td>\n",
       "      <td>0</td>\n",
       "      <td>0</td>\n",
       "      <td>0</td>\n",
       "      <td>0</td>\n",
       "      <td>0</td>\n",
       "      <td>0</td>\n",
       "    </tr>\n",
       "  </tbody>\n",
       "</table>\n",
       "<p>5 rows × 22 columns</p>\n",
       "</div>"
      ],
      "text/plain": [
       "                    Qualification  Experience  Rating         Profile  \\\n",
       "0           BHMS, MD - Homeopathy          24   100.0       Homeopath   \n",
       "1    BAMS, MD - Ayurveda Medicine          12    98.0        Ayurveda   \n",
       "2  MBBS, MS - Otorhinolaryngology           9     0.0  ENT Specialist   \n",
       "3             BSc - Zoology, BAMS          12     0.0        Ayurveda   \n",
       "4                            BAMS          20   100.0        Ayurveda   \n",
       "\n",
       "                                  Miscellaneous_Info  Fees       City  \\\n",
       "0               100% 16 Feedback Kakkanad, Ernakulam   100  Ernakulam   \n",
       "1              98% 76 Feedback Whitefield, Bangalore   350  Bangalore   \n",
       "2                                                NaN   300  Bangalore   \n",
       "3  Bannerghatta Road, Bangalore ₹250 Available on...   250  Bangalore   \n",
       "4              100% 4 Feedback Keelkattalai, Chennai   250    Chennai   \n",
       "\n",
       "                Area  Profile_Ayurveda  Profile_Dentist  ...  \\\n",
       "0           Kakkanad                 0                0  ...   \n",
       "1         Whitefield                 1                0  ...   \n",
       "2    Mathikere - BEL                 0                0  ...   \n",
       "3  Bannerghatta Road                 1                0  ...   \n",
       "4       Keelkattalai                 1                0  ...   \n",
       "\n",
       "   Profile_General Medicine  Profile_Homeopath  City_Bangalore  City_Chennai  \\\n",
       "0                         0                  1               0             0   \n",
       "1                         0                  0               1             0   \n",
       "2                         0                  0               1             0   \n",
       "3                         0                  0               1             0   \n",
       "4                         0                  0               0             1   \n",
       "\n",
       "   City_Coimbatore  City_Delhi  City_Ernakulam  City_Hyderabad  City_Mumbai  \\\n",
       "0                0           0               1               0            0   \n",
       "1                0           0               0               0            0   \n",
       "2                0           0               0               0            0   \n",
       "3                0           0               0               0            0   \n",
       "4                0           0               0               0            0   \n",
       "\n",
       "   City_Thiruvananthapuram  \n",
       "0                        0  \n",
       "1                        0  \n",
       "2                        0  \n",
       "3                        0  \n",
       "4                        0  \n",
       "\n",
       "[5 rows x 22 columns]"
      ]
     },
     "execution_count": 18,
     "metadata": {},
     "output_type": "execute_result"
    }
   ],
   "source": [
    "temp = pd.get_dummies(fees[['Profile', 'City']], prefix_sep = '_', prefix = ['Profile', 'City'])\n",
    "fees = pd.concat([fees, temp], axis=1, join = 'inner')\n",
    "fees.head()"
   ]
  },
  {
   "cell_type": "code",
   "execution_count": 19,
   "metadata": {},
   "outputs": [],
   "source": [
    "fees=fees.drop('Profile',axis=1)"
   ]
  },
  {
   "cell_type": "code",
   "execution_count": 20,
   "metadata": {},
   "outputs": [],
   "source": [
    "def sortQual(text):\n",
    "    arr = re.sub(r'\\(.*?\\)', lambda x: x.group().replace(\",\",\"-\"), text) # to replace ',' with '-' inside brackets only\n",
    "    return (sorted(arr.lower().replace(\" \",\"\").split(\",\")))"
   ]
  },
  {
   "cell_type": "code",
   "execution_count": 21,
   "metadata": {},
   "outputs": [],
   "source": [
    "fees['Qualification'] = fees['Qualification'].apply(lambda x : sortQual(x))"
   ]
  },
  {
   "cell_type": "code",
   "execution_count": 22,
   "metadata": {},
   "outputs": [],
   "source": [
    "qual_dict = {}\n",
    "\n",
    "train_quals = []\n",
    "test_quals = []\n",
    "\n",
    "train_quals.append(list(fees['Qualification'].values))\n",
    "\n",
    "for quals in train_quals[0]:\n",
    "    for item in quals:\n",
    "        if item in qual_dict:\n",
    "            qual_dict[item] += 1\n",
    "        else:\n",
    "            qual_dict[item] = 1\n",
    "            \n",
    "\n",
    "            \n",
    "# qual_dict['Empty'] = 0"
   ]
  },
  {
   "cell_type": "code",
   "execution_count": 23,
   "metadata": {},
   "outputs": [
    {
     "data": {
      "text/html": [
       "<div>\n",
       "<style scoped>\n",
       "    .dataframe tbody tr th:only-of-type {\n",
       "        vertical-align: middle;\n",
       "    }\n",
       "\n",
       "    .dataframe tbody tr th {\n",
       "        vertical-align: top;\n",
       "    }\n",
       "\n",
       "    .dataframe thead th {\n",
       "        text-align: right;\n",
       "    }\n",
       "</style>\n",
       "<table border=\"1\" class=\"dataframe\">\n",
       "  <thead>\n",
       "    <tr style=\"text-align: right;\">\n",
       "      <th></th>\n",
       "      <th>Qualification</th>\n",
       "      <th>Count</th>\n",
       "    </tr>\n",
       "  </thead>\n",
       "  <tbody>\n",
       "    <tr>\n",
       "      <td>0</td>\n",
       "      <td>mbbs</td>\n",
       "      <td>2808</td>\n",
       "    </tr>\n",
       "    <tr>\n",
       "      <td>1</td>\n",
       "      <td>bds</td>\n",
       "      <td>1362</td>\n",
       "    </tr>\n",
       "    <tr>\n",
       "      <td>2</td>\n",
       "      <td>bams</td>\n",
       "      <td>764</td>\n",
       "    </tr>\n",
       "    <tr>\n",
       "      <td>3</td>\n",
       "      <td>bhms</td>\n",
       "      <td>749</td>\n",
       "    </tr>\n",
       "    <tr>\n",
       "      <td>4</td>\n",
       "      <td>md-dermatology</td>\n",
       "      <td>606</td>\n",
       "    </tr>\n",
       "  </tbody>\n",
       "</table>\n",
       "</div>"
      ],
      "text/plain": [
       "    Qualification  Count\n",
       "0            mbbs   2808\n",
       "1             bds   1362\n",
       "2            bams    764\n",
       "3            bhms    749\n",
       "4  md-dermatology    606"
      ]
     },
     "execution_count": 23,
     "metadata": {},
     "output_type": "execute_result"
    }
   ],
   "source": [
    "qual_df = pd.DataFrame.from_dict(dict(sorted(qual_dict.items(), key = lambda x : x[1] , reverse = True)), orient = 'index').reset_index()\n",
    "qual_df.columns = ['Qualification', 'Count']\n",
    "qual_df.head()\n"
   ]
  },
  {
   "cell_type": "code",
   "execution_count": 24,
   "metadata": {},
   "outputs": [],
   "source": [
    "x = qual_df[qual_df['Qualification'] == '39yearsexperience'].index\n",
    "qual_df = qual_df.drop(x)\n"
   ]
  },
  {
   "cell_type": "code",
   "execution_count": 25,
   "metadata": {},
   "outputs": [
    {
     "data": {
      "text/html": [
       "<div>\n",
       "<style scoped>\n",
       "    .dataframe tbody tr th:only-of-type {\n",
       "        vertical-align: middle;\n",
       "    }\n",
       "\n",
       "    .dataframe tbody tr th {\n",
       "        vertical-align: top;\n",
       "    }\n",
       "\n",
       "    .dataframe thead th {\n",
       "        text-align: right;\n",
       "    }\n",
       "</style>\n",
       "<table border=\"1\" class=\"dataframe\">\n",
       "  <thead>\n",
       "    <tr style=\"text-align: right;\">\n",
       "      <th></th>\n",
       "      <th>Qualification</th>\n",
       "      <th>Count</th>\n",
       "      <th>Code</th>\n",
       "    </tr>\n",
       "  </thead>\n",
       "  <tbody>\n",
       "    <tr>\n",
       "      <td>0</td>\n",
       "      <td>mbbs</td>\n",
       "      <td>2808</td>\n",
       "      <td>500</td>\n",
       "    </tr>\n",
       "    <tr>\n",
       "      <td>1</td>\n",
       "      <td>bds</td>\n",
       "      <td>1362</td>\n",
       "      <td>25</td>\n",
       "    </tr>\n",
       "    <tr>\n",
       "      <td>2</td>\n",
       "      <td>bams</td>\n",
       "      <td>764</td>\n",
       "      <td>23</td>\n",
       "    </tr>\n",
       "    <tr>\n",
       "      <td>3</td>\n",
       "      <td>bhms</td>\n",
       "      <td>749</td>\n",
       "      <td>27</td>\n",
       "    </tr>\n",
       "    <tr>\n",
       "      <td>4</td>\n",
       "      <td>md-dermatology</td>\n",
       "      <td>606</td>\n",
       "      <td>533</td>\n",
       "    </tr>\n",
       "  </tbody>\n",
       "</table>\n",
       "</div>"
      ],
      "text/plain": [
       "    Qualification  Count  Code\n",
       "0            mbbs   2808   500\n",
       "1             bds   1362    25\n",
       "2            bams    764    23\n",
       "3            bhms    749    27\n",
       "4  md-dermatology    606   533"
      ]
     },
     "execution_count": 25,
     "metadata": {},
     "output_type": "execute_result"
    }
   ],
   "source": [
    "qual_df[\"Code\"] = qual_df[\"Qualification\"].astype('category').cat.codes\n",
    "qual_df.head()"
   ]
  },
  {
   "cell_type": "code",
   "execution_count": 26,
   "metadata": {},
   "outputs": [],
   "source": [
    "conversion_dict = dict(zip(qual_df['Qualification'], qual_df['Code']))\n",
    "conversion_dict['39yearsexperience'] = -1"
   ]
  },
  {
   "cell_type": "code",
   "execution_count": 27,
   "metadata": {},
   "outputs": [
    {
     "data": {
      "text/plain": [
       "10"
      ]
     },
     "execution_count": 27,
     "metadata": {},
     "output_type": "execute_result"
    }
   ],
   "source": [
    "stat_train = fees.Qualification.apply(lambda x: len(x))\n",
    "stat_train.max()"
   ]
  },
  {
   "cell_type": "code",
   "execution_count": 28,
   "metadata": {},
   "outputs": [
    {
     "data": {
      "text/html": [
       "<div>\n",
       "<style scoped>\n",
       "    .dataframe tbody tr th:only-of-type {\n",
       "        vertical-align: middle;\n",
       "    }\n",
       "\n",
       "    .dataframe tbody tr th {\n",
       "        vertical-align: top;\n",
       "    }\n",
       "\n",
       "    .dataframe thead th {\n",
       "        text-align: right;\n",
       "    }\n",
       "</style>\n",
       "<table border=\"1\" class=\"dataframe\">\n",
       "  <thead>\n",
       "    <tr style=\"text-align: right;\">\n",
       "      <th></th>\n",
       "      <th>Qualification</th>\n",
       "      <th>Experience</th>\n",
       "      <th>Rating</th>\n",
       "      <th>Miscellaneous_Info</th>\n",
       "      <th>Fees</th>\n",
       "      <th>City</th>\n",
       "      <th>Area</th>\n",
       "      <th>Profile_Ayurveda</th>\n",
       "      <th>Profile_Dentist</th>\n",
       "      <th>Profile_Dermatologists</th>\n",
       "      <th>...</th>\n",
       "      <th>Qual_1</th>\n",
       "      <th>Qual_2</th>\n",
       "      <th>Qual_3</th>\n",
       "      <th>Qual_4</th>\n",
       "      <th>Qual_5</th>\n",
       "      <th>Qual_6</th>\n",
       "      <th>Qual_7</th>\n",
       "      <th>Qual_8</th>\n",
       "      <th>Qual_9</th>\n",
       "      <th>Qual_10</th>\n",
       "    </tr>\n",
       "  </thead>\n",
       "  <tbody>\n",
       "    <tr>\n",
       "      <td>0</td>\n",
       "      <td>[bhms, md-homeopathy]</td>\n",
       "      <td>24</td>\n",
       "      <td>100.0</td>\n",
       "      <td>100% 16 Feedback Kakkanad, Ernakulam</td>\n",
       "      <td>100</td>\n",
       "      <td>Ernakulam</td>\n",
       "      <td>Kakkanad</td>\n",
       "      <td>0</td>\n",
       "      <td>0</td>\n",
       "      <td>0</td>\n",
       "      <td>...</td>\n",
       "      <td>bhms</td>\n",
       "      <td>md-homeopathy</td>\n",
       "      <td>NaN</td>\n",
       "      <td>NaN</td>\n",
       "      <td>NaN</td>\n",
       "      <td>NaN</td>\n",
       "      <td>NaN</td>\n",
       "      <td>NaN</td>\n",
       "      <td>NaN</td>\n",
       "      <td>NaN</td>\n",
       "    </tr>\n",
       "    <tr>\n",
       "      <td>1</td>\n",
       "      <td>[bams, md-ayurvedamedicine]</td>\n",
       "      <td>12</td>\n",
       "      <td>98.0</td>\n",
       "      <td>98% 76 Feedback Whitefield, Bangalore</td>\n",
       "      <td>350</td>\n",
       "      <td>Bangalore</td>\n",
       "      <td>Whitefield</td>\n",
       "      <td>1</td>\n",
       "      <td>0</td>\n",
       "      <td>0</td>\n",
       "      <td>...</td>\n",
       "      <td>bams</td>\n",
       "      <td>md-ayurvedamedicine</td>\n",
       "      <td>NaN</td>\n",
       "      <td>NaN</td>\n",
       "      <td>NaN</td>\n",
       "      <td>NaN</td>\n",
       "      <td>NaN</td>\n",
       "      <td>NaN</td>\n",
       "      <td>NaN</td>\n",
       "      <td>NaN</td>\n",
       "    </tr>\n",
       "    <tr>\n",
       "      <td>2</td>\n",
       "      <td>[mbbs, ms-otorhinolaryngology]</td>\n",
       "      <td>9</td>\n",
       "      <td>0.0</td>\n",
       "      <td>NaN</td>\n",
       "      <td>300</td>\n",
       "      <td>Bangalore</td>\n",
       "      <td>Mathikere - BEL</td>\n",
       "      <td>0</td>\n",
       "      <td>0</td>\n",
       "      <td>0</td>\n",
       "      <td>...</td>\n",
       "      <td>mbbs</td>\n",
       "      <td>ms-otorhinolaryngology</td>\n",
       "      <td>NaN</td>\n",
       "      <td>NaN</td>\n",
       "      <td>NaN</td>\n",
       "      <td>NaN</td>\n",
       "      <td>NaN</td>\n",
       "      <td>NaN</td>\n",
       "      <td>NaN</td>\n",
       "      <td>NaN</td>\n",
       "    </tr>\n",
       "    <tr>\n",
       "      <td>3</td>\n",
       "      <td>[bams, bsc-zoology]</td>\n",
       "      <td>12</td>\n",
       "      <td>0.0</td>\n",
       "      <td>Bannerghatta Road, Bangalore ₹250 Available on...</td>\n",
       "      <td>250</td>\n",
       "      <td>Bangalore</td>\n",
       "      <td>Bannerghatta Road</td>\n",
       "      <td>1</td>\n",
       "      <td>0</td>\n",
       "      <td>0</td>\n",
       "      <td>...</td>\n",
       "      <td>bams</td>\n",
       "      <td>bsc-zoology</td>\n",
       "      <td>NaN</td>\n",
       "      <td>NaN</td>\n",
       "      <td>NaN</td>\n",
       "      <td>NaN</td>\n",
       "      <td>NaN</td>\n",
       "      <td>NaN</td>\n",
       "      <td>NaN</td>\n",
       "      <td>NaN</td>\n",
       "    </tr>\n",
       "    <tr>\n",
       "      <td>4</td>\n",
       "      <td>[bams]</td>\n",
       "      <td>20</td>\n",
       "      <td>100.0</td>\n",
       "      <td>100% 4 Feedback Keelkattalai, Chennai</td>\n",
       "      <td>250</td>\n",
       "      <td>Chennai</td>\n",
       "      <td>Keelkattalai</td>\n",
       "      <td>1</td>\n",
       "      <td>0</td>\n",
       "      <td>0</td>\n",
       "      <td>...</td>\n",
       "      <td>bams</td>\n",
       "      <td>NaN</td>\n",
       "      <td>NaN</td>\n",
       "      <td>NaN</td>\n",
       "      <td>NaN</td>\n",
       "      <td>NaN</td>\n",
       "      <td>NaN</td>\n",
       "      <td>NaN</td>\n",
       "      <td>NaN</td>\n",
       "      <td>NaN</td>\n",
       "    </tr>\n",
       "  </tbody>\n",
       "</table>\n",
       "<p>5 rows × 31 columns</p>\n",
       "</div>"
      ],
      "text/plain": [
       "                    Qualification  Experience  Rating  \\\n",
       "0           [bhms, md-homeopathy]          24   100.0   \n",
       "1     [bams, md-ayurvedamedicine]          12    98.0   \n",
       "2  [mbbs, ms-otorhinolaryngology]           9     0.0   \n",
       "3             [bams, bsc-zoology]          12     0.0   \n",
       "4                          [bams]          20   100.0   \n",
       "\n",
       "                                  Miscellaneous_Info  Fees       City  \\\n",
       "0               100% 16 Feedback Kakkanad, Ernakulam   100  Ernakulam   \n",
       "1              98% 76 Feedback Whitefield, Bangalore   350  Bangalore   \n",
       "2                                                NaN   300  Bangalore   \n",
       "3  Bannerghatta Road, Bangalore ₹250 Available on...   250  Bangalore   \n",
       "4              100% 4 Feedback Keelkattalai, Chennai   250    Chennai   \n",
       "\n",
       "                Area  Profile_Ayurveda  Profile_Dentist  \\\n",
       "0           Kakkanad                 0                0   \n",
       "1         Whitefield                 1                0   \n",
       "2    Mathikere - BEL                 0                0   \n",
       "3  Bannerghatta Road                 1                0   \n",
       "4       Keelkattalai                 1                0   \n",
       "\n",
       "   Profile_Dermatologists  ...  Qual_1                  Qual_2  Qual_3  \\\n",
       "0                       0  ...    bhms           md-homeopathy     NaN   \n",
       "1                       0  ...    bams     md-ayurvedamedicine     NaN   \n",
       "2                       0  ...    mbbs  ms-otorhinolaryngology     NaN   \n",
       "3                       0  ...    bams             bsc-zoology     NaN   \n",
       "4                       0  ...    bams                     NaN     NaN   \n",
       "\n",
       "   Qual_4  Qual_5  Qual_6  Qual_7  Qual_8  Qual_9  Qual_10  \n",
       "0     NaN     NaN     NaN     NaN     NaN     NaN      NaN  \n",
       "1     NaN     NaN     NaN     NaN     NaN     NaN      NaN  \n",
       "2     NaN     NaN     NaN     NaN     NaN     NaN      NaN  \n",
       "3     NaN     NaN     NaN     NaN     NaN     NaN      NaN  \n",
       "4     NaN     NaN     NaN     NaN     NaN     NaN      NaN  \n",
       "\n",
       "[5 rows x 31 columns]"
      ]
     },
     "execution_count": 28,
     "metadata": {},
     "output_type": "execute_result"
    }
   ],
   "source": [
    "train_quals = []\n",
    "for i in range(stat_train.max()):\n",
    "    col_name = 'Qual_' + str(i+1)\n",
    "    train_quals.append(col_name)\n",
    "    col_i =fees['Qualification'].str[i]\n",
    "    fees[col_name] = col_i\n",
    "#     df_train[col_name] = df_train[col_name].fillna(\"Empty\")  \n",
    "fees.head()"
   ]
  },
  {
   "cell_type": "code",
   "execution_count": 29,
   "metadata": {},
   "outputs": [],
   "source": [
    "for i in train_quals:\n",
    "    fees.replace({i: conversion_dict}, inplace=True)\n",
    "    fees[i] = fees[i].fillna(-1)"
   ]
  },
  {
   "cell_type": "code",
   "execution_count": 30,
   "metadata": {},
   "outputs": [
    {
     "data": {
      "text/html": [
       "<div>\n",
       "<style scoped>\n",
       "    .dataframe tbody tr th:only-of-type {\n",
       "        vertical-align: middle;\n",
       "    }\n",
       "\n",
       "    .dataframe tbody tr th {\n",
       "        vertical-align: top;\n",
       "    }\n",
       "\n",
       "    .dataframe thead th {\n",
       "        text-align: right;\n",
       "    }\n",
       "</style>\n",
       "<table border=\"1\" class=\"dataframe\">\n",
       "  <thead>\n",
       "    <tr style=\"text-align: right;\">\n",
       "      <th></th>\n",
       "      <th>Qualification</th>\n",
       "      <th>Experience</th>\n",
       "      <th>Rating</th>\n",
       "      <th>Miscellaneous_Info</th>\n",
       "      <th>Fees</th>\n",
       "      <th>City</th>\n",
       "      <th>Area</th>\n",
       "      <th>Profile_Ayurveda</th>\n",
       "      <th>Profile_Dentist</th>\n",
       "      <th>Profile_Dermatologists</th>\n",
       "      <th>...</th>\n",
       "      <th>Qual_1</th>\n",
       "      <th>Qual_2</th>\n",
       "      <th>Qual_3</th>\n",
       "      <th>Qual_4</th>\n",
       "      <th>Qual_5</th>\n",
       "      <th>Qual_6</th>\n",
       "      <th>Qual_7</th>\n",
       "      <th>Qual_8</th>\n",
       "      <th>Qual_9</th>\n",
       "      <th>Qual_10</th>\n",
       "    </tr>\n",
       "  </thead>\n",
       "  <tbody>\n",
       "    <tr>\n",
       "      <td>0</td>\n",
       "      <td>[bhms, md-homeopathy]</td>\n",
       "      <td>24</td>\n",
       "      <td>100.0</td>\n",
       "      <td>100% 16 Feedback Kakkanad, Ernakulam</td>\n",
       "      <td>100</td>\n",
       "      <td>Ernakulam</td>\n",
       "      <td>Kakkanad</td>\n",
       "      <td>0</td>\n",
       "      <td>0</td>\n",
       "      <td>0</td>\n",
       "      <td>...</td>\n",
       "      <td>27</td>\n",
       "      <td>541</td>\n",
       "      <td>-1</td>\n",
       "      <td>-1</td>\n",
       "      <td>-1</td>\n",
       "      <td>-1</td>\n",
       "      <td>-1</td>\n",
       "      <td>-1</td>\n",
       "      <td>-1</td>\n",
       "      <td>-1</td>\n",
       "    </tr>\n",
       "    <tr>\n",
       "      <td>1</td>\n",
       "      <td>[bams, md-ayurvedamedicine]</td>\n",
       "      <td>12</td>\n",
       "      <td>98.0</td>\n",
       "      <td>98% 76 Feedback Whitefield, Bangalore</td>\n",
       "      <td>350</td>\n",
       "      <td>Bangalore</td>\n",
       "      <td>Whitefield</td>\n",
       "      <td>1</td>\n",
       "      <td>0</td>\n",
       "      <td>0</td>\n",
       "      <td>...</td>\n",
       "      <td>23</td>\n",
       "      <td>525</td>\n",
       "      <td>-1</td>\n",
       "      <td>-1</td>\n",
       "      <td>-1</td>\n",
       "      <td>-1</td>\n",
       "      <td>-1</td>\n",
       "      <td>-1</td>\n",
       "      <td>-1</td>\n",
       "      <td>-1</td>\n",
       "    </tr>\n",
       "    <tr>\n",
       "      <td>2</td>\n",
       "      <td>[mbbs, ms-otorhinolaryngology]</td>\n",
       "      <td>9</td>\n",
       "      <td>0.0</td>\n",
       "      <td>NaN</td>\n",
       "      <td>300</td>\n",
       "      <td>Bangalore</td>\n",
       "      <td>Mathikere - BEL</td>\n",
       "      <td>0</td>\n",
       "      <td>0</td>\n",
       "      <td>0</td>\n",
       "      <td>...</td>\n",
       "      <td>500</td>\n",
       "      <td>649</td>\n",
       "      <td>-1</td>\n",
       "      <td>-1</td>\n",
       "      <td>-1</td>\n",
       "      <td>-1</td>\n",
       "      <td>-1</td>\n",
       "      <td>-1</td>\n",
       "      <td>-1</td>\n",
       "      <td>-1</td>\n",
       "    </tr>\n",
       "    <tr>\n",
       "      <td>3</td>\n",
       "      <td>[bams, bsc-zoology]</td>\n",
       "      <td>12</td>\n",
       "      <td>0.0</td>\n",
       "      <td>Bannerghatta Road, Bangalore ₹250 Available on...</td>\n",
       "      <td>250</td>\n",
       "      <td>Bangalore</td>\n",
       "      <td>Bannerghatta Road</td>\n",
       "      <td>1</td>\n",
       "      <td>0</td>\n",
       "      <td>0</td>\n",
       "      <td>...</td>\n",
       "      <td>23</td>\n",
       "      <td>33</td>\n",
       "      <td>-1</td>\n",
       "      <td>-1</td>\n",
       "      <td>-1</td>\n",
       "      <td>-1</td>\n",
       "      <td>-1</td>\n",
       "      <td>-1</td>\n",
       "      <td>-1</td>\n",
       "      <td>-1</td>\n",
       "    </tr>\n",
       "    <tr>\n",
       "      <td>4</td>\n",
       "      <td>[bams]</td>\n",
       "      <td>20</td>\n",
       "      <td>100.0</td>\n",
       "      <td>100% 4 Feedback Keelkattalai, Chennai</td>\n",
       "      <td>250</td>\n",
       "      <td>Chennai</td>\n",
       "      <td>Keelkattalai</td>\n",
       "      <td>1</td>\n",
       "      <td>0</td>\n",
       "      <td>0</td>\n",
       "      <td>...</td>\n",
       "      <td>23</td>\n",
       "      <td>-1</td>\n",
       "      <td>-1</td>\n",
       "      <td>-1</td>\n",
       "      <td>-1</td>\n",
       "      <td>-1</td>\n",
       "      <td>-1</td>\n",
       "      <td>-1</td>\n",
       "      <td>-1</td>\n",
       "      <td>-1</td>\n",
       "    </tr>\n",
       "  </tbody>\n",
       "</table>\n",
       "<p>5 rows × 31 columns</p>\n",
       "</div>"
      ],
      "text/plain": [
       "                    Qualification  Experience  Rating  \\\n",
       "0           [bhms, md-homeopathy]          24   100.0   \n",
       "1     [bams, md-ayurvedamedicine]          12    98.0   \n",
       "2  [mbbs, ms-otorhinolaryngology]           9     0.0   \n",
       "3             [bams, bsc-zoology]          12     0.0   \n",
       "4                          [bams]          20   100.0   \n",
       "\n",
       "                                  Miscellaneous_Info  Fees       City  \\\n",
       "0               100% 16 Feedback Kakkanad, Ernakulam   100  Ernakulam   \n",
       "1              98% 76 Feedback Whitefield, Bangalore   350  Bangalore   \n",
       "2                                                NaN   300  Bangalore   \n",
       "3  Bannerghatta Road, Bangalore ₹250 Available on...   250  Bangalore   \n",
       "4              100% 4 Feedback Keelkattalai, Chennai   250    Chennai   \n",
       "\n",
       "                Area  Profile_Ayurveda  Profile_Dentist  \\\n",
       "0           Kakkanad                 0                0   \n",
       "1         Whitefield                 1                0   \n",
       "2    Mathikere - BEL                 0                0   \n",
       "3  Bannerghatta Road                 1                0   \n",
       "4       Keelkattalai                 1                0   \n",
       "\n",
       "   Profile_Dermatologists  ...  Qual_1  Qual_2  Qual_3  Qual_4  Qual_5  \\\n",
       "0                       0  ...      27     541      -1      -1      -1   \n",
       "1                       0  ...      23     525      -1      -1      -1   \n",
       "2                       0  ...     500     649      -1      -1      -1   \n",
       "3                       0  ...      23      33      -1      -1      -1   \n",
       "4                       0  ...      23      -1      -1      -1      -1   \n",
       "\n",
       "   Qual_6  Qual_7  Qual_8  Qual_9  Qual_10  \n",
       "0      -1      -1      -1      -1       -1  \n",
       "1      -1      -1      -1      -1       -1  \n",
       "2      -1      -1      -1      -1       -1  \n",
       "3      -1      -1      -1      -1       -1  \n",
       "4      -1      -1      -1      -1       -1  \n",
       "\n",
       "[5 rows x 31 columns]"
      ]
     },
     "execution_count": 30,
     "metadata": {},
     "output_type": "execute_result"
    }
   ],
   "source": [
    "fees.head()"
   ]
  },
  {
   "cell_type": "code",
   "execution_count": 31,
   "metadata": {},
   "outputs": [],
   "source": [
    "fees=fees.drop('Qualification',axis=1)"
   ]
  },
  {
   "cell_type": "code",
   "execution_count": 32,
   "metadata": {},
   "outputs": [
    {
     "data": {
      "text/plain": [
       "array(['Kakkanad', 'Whitefield', 'Mathikere - BEL', 'Bannerghatta Road',\n",
       "       'Keelkattalai', 'Porur', 'Karol Bagh', 'Arekere', 'Old City',\n",
       "       'Athani'], dtype=object)"
      ]
     },
     "execution_count": 32,
     "metadata": {},
     "output_type": "execute_result"
    }
   ],
   "source": [
    "fees['Area'].unique()[:10]"
   ]
  },
  {
   "cell_type": "code",
   "execution_count": 33,
   "metadata": {},
   "outputs": [],
   "source": [
    "temp=fees['Area'].unique()"
   ]
  },
  {
   "cell_type": "code",
   "execution_count": 34,
   "metadata": {},
   "outputs": [],
   "source": [
    "area_df = pd.DataFrame(temp, columns = ['Area'])\n",
    "area_df['Codes'] = area_df['Area'].astype('category').cat.codes\n",
    "# scaler = StandardScaler()\n",
    "# area_df['Codes'] = scaler.fit_transform(area_df['Codes'].values.reshape(-1,1))\n",
    "area_codes_dict = dict(zip(area_df['Area'], area_df['Codes']))"
   ]
  },
  {
   "cell_type": "code",
   "execution_count": 35,
   "metadata": {},
   "outputs": [],
   "source": [
    "fees.replace({'Area': area_codes_dict}, inplace=True)\n",
    "fees['Area'] = fees['Area'].fillna(-1)"
   ]
  },
  {
   "cell_type": "code",
   "execution_count": 36,
   "metadata": {},
   "outputs": [
    {
     "data": {
      "text/html": [
       "<div>\n",
       "<style scoped>\n",
       "    .dataframe tbody tr th:only-of-type {\n",
       "        vertical-align: middle;\n",
       "    }\n",
       "\n",
       "    .dataframe tbody tr th {\n",
       "        vertical-align: top;\n",
       "    }\n",
       "\n",
       "    .dataframe thead th {\n",
       "        text-align: right;\n",
       "    }\n",
       "</style>\n",
       "<table border=\"1\" class=\"dataframe\">\n",
       "  <thead>\n",
       "    <tr style=\"text-align: right;\">\n",
       "      <th></th>\n",
       "      <th>Experience</th>\n",
       "      <th>Rating</th>\n",
       "      <th>Miscellaneous_Info</th>\n",
       "      <th>Fees</th>\n",
       "      <th>City</th>\n",
       "      <th>Area</th>\n",
       "      <th>Profile_Ayurveda</th>\n",
       "      <th>Profile_Dentist</th>\n",
       "      <th>Profile_Dermatologists</th>\n",
       "      <th>Profile_ENT Specialist</th>\n",
       "      <th>...</th>\n",
       "      <th>Qual_1</th>\n",
       "      <th>Qual_2</th>\n",
       "      <th>Qual_3</th>\n",
       "      <th>Qual_4</th>\n",
       "      <th>Qual_5</th>\n",
       "      <th>Qual_6</th>\n",
       "      <th>Qual_7</th>\n",
       "      <th>Qual_8</th>\n",
       "      <th>Qual_9</th>\n",
       "      <th>Qual_10</th>\n",
       "    </tr>\n",
       "  </thead>\n",
       "  <tbody>\n",
       "    <tr>\n",
       "      <td>0</td>\n",
       "      <td>24</td>\n",
       "      <td>100.0</td>\n",
       "      <td>100% 16 Feedback Kakkanad, Ernakulam</td>\n",
       "      <td>100</td>\n",
       "      <td>Ernakulam</td>\n",
       "      <td>296</td>\n",
       "      <td>0</td>\n",
       "      <td>0</td>\n",
       "      <td>0</td>\n",
       "      <td>0</td>\n",
       "      <td>...</td>\n",
       "      <td>27</td>\n",
       "      <td>541</td>\n",
       "      <td>-1</td>\n",
       "      <td>-1</td>\n",
       "      <td>-1</td>\n",
       "      <td>-1</td>\n",
       "      <td>-1</td>\n",
       "      <td>-1</td>\n",
       "      <td>-1</td>\n",
       "      <td>-1</td>\n",
       "    </tr>\n",
       "    <tr>\n",
       "      <td>1</td>\n",
       "      <td>12</td>\n",
       "      <td>98.0</td>\n",
       "      <td>98% 76 Feedback Whitefield, Bangalore</td>\n",
       "      <td>350</td>\n",
       "      <td>Bangalore</td>\n",
       "      <td>855</td>\n",
       "      <td>1</td>\n",
       "      <td>0</td>\n",
       "      <td>0</td>\n",
       "      <td>0</td>\n",
       "      <td>...</td>\n",
       "      <td>23</td>\n",
       "      <td>525</td>\n",
       "      <td>-1</td>\n",
       "      <td>-1</td>\n",
       "      <td>-1</td>\n",
       "      <td>-1</td>\n",
       "      <td>-1</td>\n",
       "      <td>-1</td>\n",
       "      <td>-1</td>\n",
       "      <td>-1</td>\n",
       "    </tr>\n",
       "    <tr>\n",
       "      <td>2</td>\n",
       "      <td>9</td>\n",
       "      <td>0.0</td>\n",
       "      <td>NaN</td>\n",
       "      <td>300</td>\n",
       "      <td>Bangalore</td>\n",
       "      <td>452</td>\n",
       "      <td>0</td>\n",
       "      <td>0</td>\n",
       "      <td>0</td>\n",
       "      <td>1</td>\n",
       "      <td>...</td>\n",
       "      <td>500</td>\n",
       "      <td>649</td>\n",
       "      <td>-1</td>\n",
       "      <td>-1</td>\n",
       "      <td>-1</td>\n",
       "      <td>-1</td>\n",
       "      <td>-1</td>\n",
       "      <td>-1</td>\n",
       "      <td>-1</td>\n",
       "      <td>-1</td>\n",
       "    </tr>\n",
       "    <tr>\n",
       "      <td>3</td>\n",
       "      <td>12</td>\n",
       "      <td>0.0</td>\n",
       "      <td>Bannerghatta Road, Bangalore ₹250 Available on...</td>\n",
       "      <td>250</td>\n",
       "      <td>Bangalore</td>\n",
       "      <td>68</td>\n",
       "      <td>1</td>\n",
       "      <td>0</td>\n",
       "      <td>0</td>\n",
       "      <td>0</td>\n",
       "      <td>...</td>\n",
       "      <td>23</td>\n",
       "      <td>33</td>\n",
       "      <td>-1</td>\n",
       "      <td>-1</td>\n",
       "      <td>-1</td>\n",
       "      <td>-1</td>\n",
       "      <td>-1</td>\n",
       "      <td>-1</td>\n",
       "      <td>-1</td>\n",
       "      <td>-1</td>\n",
       "    </tr>\n",
       "    <tr>\n",
       "      <td>4</td>\n",
       "      <td>20</td>\n",
       "      <td>100.0</td>\n",
       "      <td>100% 4 Feedback Keelkattalai, Chennai</td>\n",
       "      <td>250</td>\n",
       "      <td>Chennai</td>\n",
       "      <td>335</td>\n",
       "      <td>1</td>\n",
       "      <td>0</td>\n",
       "      <td>0</td>\n",
       "      <td>0</td>\n",
       "      <td>...</td>\n",
       "      <td>23</td>\n",
       "      <td>-1</td>\n",
       "      <td>-1</td>\n",
       "      <td>-1</td>\n",
       "      <td>-1</td>\n",
       "      <td>-1</td>\n",
       "      <td>-1</td>\n",
       "      <td>-1</td>\n",
       "      <td>-1</td>\n",
       "      <td>-1</td>\n",
       "    </tr>\n",
       "  </tbody>\n",
       "</table>\n",
       "<p>5 rows × 30 columns</p>\n",
       "</div>"
      ],
      "text/plain": [
       "   Experience  Rating                                 Miscellaneous_Info  \\\n",
       "0          24   100.0               100% 16 Feedback Kakkanad, Ernakulam   \n",
       "1          12    98.0              98% 76 Feedback Whitefield, Bangalore   \n",
       "2           9     0.0                                                NaN   \n",
       "3          12     0.0  Bannerghatta Road, Bangalore ₹250 Available on...   \n",
       "4          20   100.0              100% 4 Feedback Keelkattalai, Chennai   \n",
       "\n",
       "   Fees       City  Area  Profile_Ayurveda  Profile_Dentist  \\\n",
       "0   100  Ernakulam   296                 0                0   \n",
       "1   350  Bangalore   855                 1                0   \n",
       "2   300  Bangalore   452                 0                0   \n",
       "3   250  Bangalore    68                 1                0   \n",
       "4   250    Chennai   335                 1                0   \n",
       "\n",
       "   Profile_Dermatologists  Profile_ENT Specialist  ...  Qual_1  Qual_2  \\\n",
       "0                       0                       0  ...      27     541   \n",
       "1                       0                       0  ...      23     525   \n",
       "2                       0                       1  ...     500     649   \n",
       "3                       0                       0  ...      23      33   \n",
       "4                       0                       0  ...      23      -1   \n",
       "\n",
       "   Qual_3  Qual_4  Qual_5  Qual_6  Qual_7  Qual_8  Qual_9  Qual_10  \n",
       "0      -1      -1      -1      -1      -1      -1      -1       -1  \n",
       "1      -1      -1      -1      -1      -1      -1      -1       -1  \n",
       "2      -1      -1      -1      -1      -1      -1      -1       -1  \n",
       "3      -1      -1      -1      -1      -1      -1      -1       -1  \n",
       "4      -1      -1      -1      -1      -1      -1      -1       -1  \n",
       "\n",
       "[5 rows x 30 columns]"
      ]
     },
     "execution_count": 36,
     "metadata": {},
     "output_type": "execute_result"
    }
   ],
   "source": [
    "fees.head()"
   ]
  },
  {
   "cell_type": "code",
   "execution_count": 37,
   "metadata": {},
   "outputs": [],
   "source": [
    "fees=fees.drop('Miscellaneous_Info',axis=1)"
   ]
  },
  {
   "cell_type": "code",
   "execution_count": 40,
   "metadata": {},
   "outputs": [],
   "source": [
    "fees=fees.fillna(0)"
   ]
  },
  {
   "cell_type": "code",
   "execution_count": 41,
   "metadata": {},
   "outputs": [
    {
     "data": {
      "text/plain": [
       "<matplotlib.axes._subplots.AxesSubplot at 0x198d9edb048>"
      ]
     },
     "execution_count": 41,
     "metadata": {},
     "output_type": "execute_result"
    },
    {
     "data": {
      "image/png": "[encoded data removed]",
      "text/plain": [
       "<Figure size 432x288 with 2 Axes>"
      ]
     },
     "metadata": {
      "needs_background": "light"
     },
     "output_type": "display_data"
    }
   ],
   "source": [
    "sns.heatmap(fees.isnull())"
   ]
  },
  {
   "cell_type": "markdown",
   "metadata": {},
   "source": [
    "From above you can see that now data look's like perfect."
   ]
  },
  {
   "cell_type": "code",
   "execution_count": 42,
   "metadata": {},
   "outputs": [],
   "source": [
    "selected_cols = [i for i in fees.columns if i not in ['Qualification', 'Place', 'Miscellaneous_Info', 'City', 'Fees', 'Profile', 'Rev_Len', 'Experience', 'Rating']]"
   ]
  },
  {
   "cell_type": "code",
   "execution_count": 43,
   "metadata": {},
   "outputs": [
    {
     "data": {
      "text/plain": [
       "<matplotlib.axes._subplots.AxesSubplot at 0x198da707388>"
      ]
     },
     "execution_count": 43,
     "metadata": {},
     "output_type": "execute_result"
    },
    {
     "data": {
      "image/png": "[encoded data removed]",
      "text/plain": [
       "<Figure size 1080x360 with 2 Axes>"
      ]
     },
     "metadata": {
      "needs_background": "light"
     },
     "output_type": "display_data"
    }
   ],
   "source": [
    "plt.figure(figsize=(15,5))\n",
    "plt.subplots_adjust(left=0.125, bottom=0.1, right=0.9, top=0.9,\n",
    "                      wspace=0.5, hspace=0.2)\n",
    "plt.subplot(121)\n",
    "plt.title('Area vs Price')\n",
    "sns.violinplot(y='Area',data=fees,color='m',linewidth=2)\n",
    "plt.subplot(122)\n",
    "plt.title('Experience vs Fees')\n",
    "sns.violinplot(y='Experience',data=fees,color='m',linewidth=2)"
   ]
  },
  {
   "cell_type": "code",
   "execution_count": 44,
   "metadata": {},
   "outputs": [
    {
     "data": {
      "text/plain": [
       "Experience                     AxesSubplot(0.125,0.772143;0.133621x0.107857)\n",
       "Rating                      AxesSubplot(0.285345,0.772143;0.133621x0.107857)\n",
       "Fees                         AxesSubplot(0.44569,0.772143;0.133621x0.107857)\n",
       "Area                        AxesSubplot(0.606034,0.772143;0.133621x0.107857)\n",
       "Profile_Ayurveda            AxesSubplot(0.766379,0.772143;0.133621x0.107857)\n",
       "Profile_Dentist                AxesSubplot(0.125,0.642714;0.133621x0.107857)\n",
       "Profile_Dermatologists      AxesSubplot(0.285345,0.642714;0.133621x0.107857)\n",
       "Profile_ENT Specialist       AxesSubplot(0.44569,0.642714;0.133621x0.107857)\n",
       "Profile_General Medicine    AxesSubplot(0.606034,0.642714;0.133621x0.107857)\n",
       "Profile_Homeopath           AxesSubplot(0.766379,0.642714;0.133621x0.107857)\n",
       "City_Bangalore                 AxesSubplot(0.125,0.513286;0.133621x0.107857)\n",
       "City_Chennai                AxesSubplot(0.285345,0.513286;0.133621x0.107857)\n",
       "City_Coimbatore              AxesSubplot(0.44569,0.513286;0.133621x0.107857)\n",
       "City_Delhi                  AxesSubplot(0.606034,0.513286;0.133621x0.107857)\n",
       "City_Ernakulam              AxesSubplot(0.766379,0.513286;0.133621x0.107857)\n",
       "City_Hyderabad                 AxesSubplot(0.125,0.383857;0.133621x0.107857)\n",
       "City_Mumbai                 AxesSubplot(0.285345,0.383857;0.133621x0.107857)\n",
       "City_Thiruvananthapuram      AxesSubplot(0.44569,0.383857;0.133621x0.107857)\n",
       "Qual_1                      AxesSubplot(0.606034,0.383857;0.133621x0.107857)\n",
       "Qual_2                      AxesSubplot(0.766379,0.383857;0.133621x0.107857)\n",
       "Qual_3                         AxesSubplot(0.125,0.254429;0.133621x0.107857)\n",
       "Qual_4                      AxesSubplot(0.285345,0.254429;0.133621x0.107857)\n",
       "Qual_5                       AxesSubplot(0.44569,0.254429;0.133621x0.107857)\n",
       "Qual_6                      AxesSubplot(0.606034,0.254429;0.133621x0.107857)\n",
       "Qual_7                      AxesSubplot(0.766379,0.254429;0.133621x0.107857)\n",
       "Qual_8                            AxesSubplot(0.125,0.125;0.133621x0.107857)\n",
       "Qual_9                         AxesSubplot(0.285345,0.125;0.133621x0.107857)\n",
       "Qual_10                         AxesSubplot(0.44569,0.125;0.133621x0.107857)\n",
       "dtype: object"
      ]
     },
     "execution_count": 44,
     "metadata": {},
     "output_type": "execute_result"
    },
    {
     "data": {
      "image/png": "[encoded data removed]",
      "text/plain": [
       "<Figure size 432x288 with 30 Axes>"
      ]
     },
     "metadata": {
      "needs_background": "light"
     },
     "output_type": "display_data"
    }
   ],
   "source": [
    "fees.plot.box(subplots=True,layout=(6,5),color='orange')"
   ]
  },
  {
   "cell_type": "markdown",
   "metadata": {},
   "source": [
    "From here data contains lot of outliers."
   ]
  },
  {
   "cell_type": "markdown",
   "metadata": {},
   "source": [
    "# Building a Machine Learning Model"
   ]
  },
  {
   "cell_type": "code",
   "execution_count": null,
   "metadata": {},
   "outputs": [],
   "source": []
  },
  {
   "cell_type": "code",
   "execution_count": 45,
   "metadata": {},
   "outputs": [],
   "source": [
    "x = fees[selected_cols]\n",
    "y = fees['Fees']\n",
    "\n",
    "x_train, x_test, y_train, y_test = train_test_split(x,y,test_size=0.1,random_state=41)"
   ]
  },
  {
   "cell_type": "code",
   "execution_count": 46,
   "metadata": {},
   "outputs": [],
   "source": [
    "# from sklearn.preprocessing import StandardScaler\n",
    "scaler = StandardScaler()\n",
    "x_train = scaler.fit_transform(x_train)"
   ]
  },
  {
   "cell_type": "code",
   "execution_count": 47,
   "metadata": {},
   "outputs": [],
   "source": [
    "from sklearn.svm import SVR\n",
    "reg = SVR(gamma = 0.1)\n",
    "reg.fit(x_train,y_train)\n",
    "ans = reg.predict(scaler.transform(x_test))"
   ]
  },
  {
   "cell_type": "code",
   "execution_count": 48,
   "metadata": {},
   "outputs": [],
   "source": [
    "def score(y_pred,y):\n",
    "    y_pred = np.log(y_pred)\n",
    "    y = np.log(y)\n",
    "    return 1 - ((np.sum((y_pred-y)**2))/len(y))**1/2"
   ]
  },
  {
   "cell_type": "code",
   "execution_count": 49,
   "metadata": {},
   "outputs": [
    {
     "data": {
      "text/plain": [
       "0.7737373712257904"
      ]
     },
     "execution_count": 49,
     "metadata": {},
     "output_type": "execute_result"
    }
   ],
   "source": [
    "score(ans,y_test)"
   ]
  },
  {
   "cell_type": "code",
   "execution_count": 50,
   "metadata": {},
   "outputs": [],
   "source": [
    "from sklearn.metrics import make_scorer, mean_squared_error, r2_score\n",
    "scorer = make_scorer(score,greater_is_better=True)"
   ]
  },
  {
   "cell_type": "code",
   "execution_count": 51,
   "metadata": {},
   "outputs": [],
   "source": [
    "from sklearn.model_selection import GridSearchCV\n",
    "\n",
    "parameters = {\"C\":[0.1,1,10],\"kernel\":[\"linear\",\"rbf\",\"poly\"]}\n",
    "reg2 = GridSearchCV(reg,param_grid=parameters,scoring=scorer, n_jobs=-1,cv=4)"
   ]
  },
  {
   "cell_type": "code",
   "execution_count": 52,
   "metadata": {},
   "outputs": [
    {
     "data": {
      "text/plain": [
       "GridSearchCV(cv=4, error_score='raise-deprecating',\n",
       "             estimator=SVR(C=1.0, cache_size=200, coef0=0.0, degree=3,\n",
       "                           epsilon=0.1, gamma=0.1, kernel='rbf', max_iter=-1,\n",
       "                           shrinking=True, tol=0.001, verbose=False),\n",
       "             iid='warn', n_jobs=-1,\n",
       "             param_grid={'C': [0.1, 1, 10],\n",
       "                         'kernel': ['linear', 'rbf', 'poly']},\n",
       "             pre_dispatch='2*n_jobs', refit=True, return_train_score=False,\n",
       "             scoring=make_scorer(score), verbose=0)"
      ]
     },
     "execution_count": 52,
     "metadata": {},
     "output_type": "execute_result"
    }
   ],
   "source": [
    "reg2.fit(x_train,y_train)"
   ]
  },
  {
   "cell_type": "code",
   "execution_count": 53,
   "metadata": {},
   "outputs": [],
   "source": [
    "ans2 = reg2.predict(scaler.transform(x_test))"
   ]
  },
  {
   "cell_type": "code",
   "execution_count": 54,
   "metadata": {},
   "outputs": [
    {
     "data": {
      "text/plain": [
       "0.780525437783761"
      ]
     },
     "execution_count": 54,
     "metadata": {},
     "output_type": "execute_result"
    }
   ],
   "source": [
    "score(ans2, y_test)"
   ]
  },
  {
   "cell_type": "code",
   "execution_count": 55,
   "metadata": {},
   "outputs": [],
   "source": [
    "from sklearn.model_selection import GridSearchCV\n",
    "\n",
    "scaler = StandardScaler()\n",
    "x = scaler.fit_transform(fees[selected_cols])\n",
    "y = fees['Fees']\n",
    "\n",
    "reg3 = SVR(gamma = 0.1)\n",
    "reg3.fit(x_train,y_train)\n",
    "\n",
    "parameters = {\"C\":[0.1,1,10],\"kernel\":[\"linear\",\"rbf\",\"poly\"]}\n",
    "reg4 = GridSearchCV(reg3,param_grid=parameters,scoring='r2', n_jobs=-1,cv=4)\n",
    "reg4.fit(x,y)\n",
    "ans = reg4.predict(x_test)"
   ]
  },
  {
   "cell_type": "code",
   "execution_count": 56,
   "metadata": {},
   "outputs": [
    {
     "name": "stdout",
     "output_type": "stream",
     "text": [
      "Training data score 0.8075831548457182\n"
     ]
    }
   ],
   "source": [
    "ansx = reg4.predict(x)\n",
    "print(\"Training data score {}\".format(score(y, ansx)))"
   ]
  },
  {
   "cell_type": "markdown",
   "metadata": {},
   "source": [
    "# Saving Model"
   ]
  },
  {
   "cell_type": "code",
   "execution_count": 57,
   "metadata": {},
   "outputs": [],
   "source": [
    "fees=pd.DataFrame(ansx)\n",
    "fees.to_csv('rfr_fees.csv')"
   ]
  },
  {
   "cell_type": "code",
   "execution_count": 58,
   "metadata": {
    "scrolled": false
   },
   "outputs": [
    {
     "data": {
      "text/plain": [
       "array([268.63675657, 268.63675657, 268.63675657, 268.63675657,\n",
       "       268.63675657, 268.63675657, 268.63675657, 268.63675657,\n",
       "       268.63675657, 268.63675657, 268.63675657, 268.63675657,\n",
       "       268.63675657, 268.63675657, 268.63675657, 268.63675657,\n",
       "       268.63675657, 268.63675657, 268.63675657, 268.63675657,\n",
       "       268.63675657, 268.63675657, 268.63675657, 268.63675657,\n",
       "       268.63675657, 268.63675657, 268.63675657, 268.63675657,\n",
       "       268.63675657, 268.63675657, 268.63675657, 268.63675657,\n",
       "       268.63675657, 268.63675657, 268.63675657, 268.63675657,\n",
       "       268.63675657, 268.63675657, 268.63675657, 268.63675657,\n",
       "       268.63675657, 268.63675657, 268.63675657, 268.63675657,\n",
       "       268.63675657, 268.63675657, 268.63675657, 268.63675657,\n",
       "       268.63675657, 268.63675657, 268.63675657, 268.63675657,\n",
       "       268.63675657, 268.63675657, 268.63675657, 268.63675657,\n",
       "       268.63675657, 268.63675657, 268.63675657, 268.63675657,\n",
       "       268.63675657, 268.63675657, 268.63675657, 268.63675657,\n",
       "       268.63675657, 268.63675657, 268.63675657, 268.63675657,\n",
       "       268.63675657, 268.63675657, 268.63675657, 268.63675657,\n",
       "       268.63675657, 268.63675657, 268.63675657, 268.63675657,\n",
       "       268.63675657, 268.63675657, 268.63675657, 268.63675657,\n",
       "       268.63675657, 268.63675657, 268.63675657, 268.63675657,\n",
       "       268.63675657, 268.63675657, 268.63675657, 268.63675657,\n",
       "       268.63675657, 268.63675657, 268.63675657, 268.63675657,\n",
       "       268.63675657, 268.63675657, 268.63675657, 268.63675657,\n",
       "       268.63675657, 268.63675657, 268.63675657, 268.63675657,\n",
       "       268.63675657, 268.63675657, 268.63675657, 268.63675657,\n",
       "       268.63675657, 268.63675657, 268.63675657, 268.63675657,\n",
       "       268.63675657, 268.63675657, 268.63675657, 268.63675657,\n",
       "       268.63675657, 268.63675657, 268.63675657, 268.63675657,\n",
       "       268.63675657, 268.63675657, 268.63675657, 268.63675657,\n",
       "       268.63675657, 268.63675657, 268.63675657, 268.63675657,\n",
       "       268.63675657, 268.63675657, 268.63675657, 268.63675657,\n",
       "       268.63675657, 268.63675657, 268.63675657, 268.63675657,\n",
       "       268.63675657, 268.63675657, 268.63675657, 268.63675657,\n",
       "       268.63675657, 268.63675657, 268.63675657, 268.63675657,\n",
       "       268.63675657, 268.63675657, 268.63675657, 268.63675657,\n",
       "       268.63675657, 268.63675657, 268.63675657, 268.63675657,\n",
       "       268.63675657, 268.63675657, 268.63675657, 268.63675657,\n",
       "       268.63675657, 268.63675657, 268.63675657, 268.63675657,\n",
       "       268.63675657, 268.63675657, 268.63675657, 268.63675657,\n",
       "       268.63675657, 268.63675657, 268.63675657, 268.63675657,\n",
       "       268.63675657, 268.63675657, 268.63675657, 268.63675657,\n",
       "       268.63675657, 268.63675657, 268.63675657, 268.63675657,\n",
       "       268.63675657, 268.63675657, 268.63675657, 268.63675657,\n",
       "       268.63675657, 268.63675657, 268.63675657, 268.63675657,\n",
       "       268.63675657, 268.63675657, 268.63675657, 268.63675657,\n",
       "       268.63675657, 268.63675657, 268.63675657, 268.63675657,\n",
       "       268.63675657, 268.63675657, 268.63675657, 268.63675657,\n",
       "       268.63675657, 268.63675657, 268.63675657, 268.63675657,\n",
       "       268.63675657, 268.63675657, 268.63675657, 268.63675657,\n",
       "       268.63675657, 268.63675657, 268.63675657, 268.63675657,\n",
       "       268.63675657, 268.63675657, 268.63675657, 268.63675657,\n",
       "       268.63675657, 268.63675657, 268.63675657, 268.63675657,\n",
       "       268.63675657, 268.63675657, 268.63675657, 268.63675657,\n",
       "       268.63675657, 268.63675657, 268.63675657, 268.63675657,\n",
       "       268.63675657, 268.63675657, 268.63675657, 268.63675657,\n",
       "       268.63675657, 268.63675657, 268.63675657, 268.63675657,\n",
       "       268.63675657, 268.63675657, 268.63675657, 268.63675657,\n",
       "       268.63675657, 268.63675657, 268.63675657, 268.63675657,\n",
       "       268.63675657, 268.63675657, 268.63675657, 268.63675657,\n",
       "       268.63675657, 268.63675657, 268.63675657, 268.63675657,\n",
       "       268.63675657, 268.63675657, 268.63675657, 268.63675657,\n",
       "       268.63675657, 268.63675657, 268.63675657, 268.63675657,\n",
       "       268.63675657, 268.63675657, 268.63675657, 268.63675657,\n",
       "       268.63675657, 268.63675657, 268.63675657, 268.63675657,\n",
       "       268.63675657, 268.63675657, 268.63675657, 268.63675657,\n",
       "       268.63675657, 268.63675657, 268.63675657, 268.63675657,\n",
       "       268.63675657, 268.63675657, 268.63675657, 268.63675657,\n",
       "       268.63675657, 268.63675657, 268.63675657, 268.63675657,\n",
       "       268.63675657, 268.63675657, 268.63675657, 268.63675657,\n",
       "       268.63675657, 268.63675657, 268.63675657, 268.63675657,\n",
       "       268.63675657, 268.63675657, 268.63675657, 268.63675657,\n",
       "       268.63675657, 268.63675657, 268.63675657, 268.63675657,\n",
       "       268.63675657, 268.63675657, 268.63675657, 268.63675657,\n",
       "       268.63675657, 268.63675657, 268.63675657, 268.63675657,\n",
       "       268.63675657, 268.63675657, 268.63675657, 268.63675657,\n",
       "       268.63675657, 268.63675657, 268.63675657, 268.63675657,\n",
       "       268.63675657, 268.63675657, 268.63675657, 268.63675657,\n",
       "       268.63675657, 268.63675657, 268.63675657, 268.63675657,\n",
       "       268.63675657, 268.63675657, 268.63675657, 268.63675657,\n",
       "       268.63675657, 268.63675657, 268.63675657, 268.63675657,\n",
       "       268.63675657, 268.63675657, 268.63675657, 268.63675657,\n",
       "       268.63675657, 268.63675657, 268.63675657, 268.63675657,\n",
       "       268.63675657, 268.63675657, 268.63675657, 268.63675657,\n",
       "       268.63675657, 268.63675657, 268.63675657, 268.63675657,\n",
       "       268.63675657, 268.63675657, 268.63675657, 268.63675657,\n",
       "       268.63675657, 268.63675657, 268.63675657, 268.63675657,\n",
       "       268.63675657, 268.63675657, 268.63675657, 268.63675657,\n",
       "       268.63675657, 268.63675657, 268.63675657, 268.63675657,\n",
       "       268.63675657, 268.63675657, 268.63675657, 268.63675657,\n",
       "       268.63675657, 268.63675657, 268.63675657, 268.63675657,\n",
       "       268.63675657, 268.63675657, 268.63675657, 268.63675657,\n",
       "       268.63675657, 268.63675657, 268.63675657, 268.63675657,\n",
       "       268.63675657, 268.63675657, 268.63675657, 268.63675657,\n",
       "       268.63675657, 268.63675657, 268.63675657, 268.63675657,\n",
       "       268.63675657, 268.63675657, 268.63675657, 268.63675657,\n",
       "       268.63675657, 268.63675657, 268.63675657, 268.63675657,\n",
       "       268.63675657, 268.63675657, 268.63675657, 268.63675657,\n",
       "       268.63675657, 268.63675657, 268.63675657, 268.63675657,\n",
       "       268.63675657, 268.63675657, 268.63675657, 268.63675657,\n",
       "       268.63675657, 268.63675657, 268.63675657, 268.63675657,\n",
       "       268.63675657, 268.63675657, 268.63675657, 268.63675657,\n",
       "       268.63675657, 268.63675657, 268.63675657, 268.63675657,\n",
       "       268.63675657, 268.63675657, 268.63675657, 268.63675657,\n",
       "       268.63675657, 268.63675657, 268.63675657, 268.63675657,\n",
       "       268.63675657, 268.63675657, 268.63675657, 268.63675657,\n",
       "       268.63675657, 268.63675657, 268.63675657, 268.63675657,\n",
       "       268.63675657, 268.63675657, 268.63675657, 268.63675657,\n",
       "       268.63675657, 268.63675657, 268.63675657, 268.63675657,\n",
       "       268.63675657, 268.63675657, 268.63675657, 268.63675657,\n",
       "       268.63675657, 268.63675657, 268.63675657, 268.63675657,\n",
       "       268.63675657, 268.63675657, 268.63675657, 268.63675657,\n",
       "       268.63675657, 268.63675657, 268.63675657, 268.63675657,\n",
       "       268.63675657, 268.63675657, 268.63675657, 268.63675657,\n",
       "       268.63675657, 268.63675657, 268.63675657, 268.63675657,\n",
       "       268.63675657, 268.63675657, 268.63675657, 268.63675657,\n",
       "       268.63675657, 268.63675657, 268.63675657, 268.63675657,\n",
       "       268.63675657, 268.63675657, 268.63675657, 268.63675657,\n",
       "       268.63675657, 268.63675657, 268.63675657, 268.63675657,\n",
       "       268.63675657, 268.63675657, 268.63675657, 268.63675657,\n",
       "       268.63675657, 268.63675657, 268.63675657, 268.63675657,\n",
       "       268.63675657, 268.63675657, 268.63675657, 268.63675657,\n",
       "       268.63675657, 268.63675657, 268.63675657, 268.63675657,\n",
       "       268.63675657, 268.63675657, 268.63675657, 268.63675657,\n",
       "       268.63675657, 268.63675657, 268.63675657, 268.63675657,\n",
       "       268.63675657, 268.63675657, 268.63675657, 268.63675657,\n",
       "       268.63675657, 268.63675657, 268.63675657, 268.63675657,\n",
       "       268.63675657, 268.63675657, 268.63675657, 268.63675657,\n",
       "       268.63675657, 268.63675657, 268.63675657, 268.63675657,\n",
       "       268.63675657, 268.63675657, 268.63675657, 268.63675657,\n",
       "       268.63675657, 268.63675657, 268.63675657, 268.63675657,\n",
       "       268.63675657, 268.63675657, 268.63675657, 268.63675657,\n",
       "       268.63675657, 268.63675657, 268.63675657, 268.63675657,\n",
       "       268.63675657, 268.63675657, 268.63675657, 268.63675657,\n",
       "       268.63675657, 268.63675657, 268.63675657, 268.63675657,\n",
       "       268.63675657, 268.63675657, 268.63675657, 268.63675657,\n",
       "       268.63675657, 268.63675657, 268.63675657, 268.63675657,\n",
       "       268.63675657, 268.63675657, 268.63675657, 268.63675657,\n",
       "       268.63675657, 268.63675657, 268.63675657, 268.63675657,\n",
       "       268.63675657, 268.63675657, 268.63675657, 268.63675657,\n",
       "       268.63675657, 268.63675657, 268.63675657, 268.63675657,\n",
       "       268.63675657, 268.63675657, 268.63675657, 268.63675657,\n",
       "       268.63675657, 268.63675657, 268.63675657, 268.63675657,\n",
       "       268.63675657, 268.63675657, 268.63675657, 268.63675657,\n",
       "       268.63675657, 268.63675657, 268.63675657, 268.63675657,\n",
       "       268.63675657, 268.63675657, 268.63675657, 268.63675657,\n",
       "       268.63675657, 268.63675657, 268.63675657, 268.63675657,\n",
       "       268.63675657, 268.63675657, 268.63675657, 268.63675657,\n",
       "       268.63675657, 268.63675657, 268.63675657, 268.63675657])"
      ]
     },
     "execution_count": 58,
     "metadata": {},
     "output_type": "execute_result"
    }
   ],
   "source": [
    "from sklearn.externals import joblib\n",
    "#save the model as a pickle in a file\n",
    "joblib.dump(reg4,'fees.obj')\n",
    "#load the model from a file\n",
    "svr_from_joblib=joblib.load('fees.obj')\n",
    "#use the loaded model to make prediction\n",
    "svr_from_joblib.predict(x_test)"
   ]
  },
  {
   "cell_type": "markdown",
   "metadata": {},
   "source": [
    "It's perfect upto now .."
   ]
  }
 ],
 "metadata": {
  "kernelspec": {
   "display_name": "Python 3",
   "language": "python",
   "name": "python3"
  },
  "language_info": {
   "codemirror_mode": {
    "name": "ipython",
    "version": 3
   },
   "file_extension": ".py",
   "mimetype": "text/x-python",
   "name": "python",
   "nbconvert_exporter": "python",
   "pygments_lexer": "ipython3",
   "version": "3.7.4"
  }
 },
 "nbformat": 4,
 "nbformat_minor": 2
}
