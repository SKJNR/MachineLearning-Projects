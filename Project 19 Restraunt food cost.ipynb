{
 "cells": [
  {
   "cell_type": "markdown",
   "metadata": {},
   "source": [
    "# Importing Dataset"
   ]
  },
  {
   "cell_type": "code",
   "execution_count": 1,
   "metadata": {},
   "outputs": [],
   "source": [
    "# data processing\n",
    "import pandas as pd\n",
    "\n",
    "#Linear Algebra\n",
    "import numpy as np\n",
    "\n",
    "#Data Visualization\n",
    "import seaborn as sns\n",
    "%matplotlib inline\n",
    "import matplotlib.pyplot as plt\n",
    "from matplotlib import style\n",
    "\n",
    "#Algorithms\n",
    "from sklearn import linear_model\n",
    "from sklearn.linear_model import LinearRegression\n",
    "from sklearn.tree import DecisionTreeRegressor \n",
    "from sklearn.ensemble import RandomForestRegressor \n",
    "from sklearn.ensemble import GradientBoostingRegressor\n",
    "from sklearn.model_selection import train_test_split,cross_val_score\n",
    "\n",
    "from sklearn import metrics  \n",
    "from sklearn.metrics import confusion_matrix,classification_report\n",
    "from sklearn.preprocessing import StandardScaler,LabelEncoder\n",
    "\n",
    "\n",
    "import warnings\n",
    "warnings.filterwarnings('ignore')"
   ]
  },
  {
   "cell_type": "markdown",
   "metadata": {},
   "source": [
    "# Getting Data"
   ]
  },
  {
   "cell_type": "code",
   "execution_count": 2,
   "metadata": {},
   "outputs": [],
   "source": [
    "foodcost=pd.read_excel('Restrauntfoodcost.xlsx')"
   ]
  },
  {
   "cell_type": "code",
   "execution_count": 3,
   "metadata": {},
   "outputs": [
    {
     "data": {
      "text/html": [
       "<div>\n",
       "<style scoped>\n",
       "    .dataframe tbody tr th:only-of-type {\n",
       "        vertical-align: middle;\n",
       "    }\n",
       "\n",
       "    .dataframe tbody tr th {\n",
       "        vertical-align: top;\n",
       "    }\n",
       "\n",
       "    .dataframe thead th {\n",
       "        text-align: right;\n",
       "    }\n",
       "</style>\n",
       "<table border=\"1\" class=\"dataframe\">\n",
       "  <thead>\n",
       "    <tr style=\"text-align: right;\">\n",
       "      <th></th>\n",
       "      <th>TITLE</th>\n",
       "      <th>RESTAURANT_ID</th>\n",
       "      <th>CUISINES</th>\n",
       "      <th>TIME</th>\n",
       "      <th>CITY</th>\n",
       "      <th>LOCALITY</th>\n",
       "      <th>RATING</th>\n",
       "      <th>VOTES</th>\n",
       "      <th>COST</th>\n",
       "    </tr>\n",
       "  </thead>\n",
       "  <tbody>\n",
       "    <tr>\n",
       "      <td>0</td>\n",
       "      <td>CASUAL DINING</td>\n",
       "      <td>9438</td>\n",
       "      <td>Malwani, Goan, North Indian</td>\n",
       "      <td>11am – 4pm, 7:30pm – 11:30pm (Mon-Sun)</td>\n",
       "      <td>Thane</td>\n",
       "      <td>Dombivali East</td>\n",
       "      <td>3.6</td>\n",
       "      <td>49 votes</td>\n",
       "      <td>1200</td>\n",
       "    </tr>\n",
       "    <tr>\n",
       "      <td>1</td>\n",
       "      <td>CASUAL DINING,BAR</td>\n",
       "      <td>13198</td>\n",
       "      <td>Asian, Modern Indian, Japanese</td>\n",
       "      <td>6pm – 11pm (Mon-Sun)</td>\n",
       "      <td>Chennai</td>\n",
       "      <td>Ramapuram</td>\n",
       "      <td>4.2</td>\n",
       "      <td>30 votes</td>\n",
       "      <td>1500</td>\n",
       "    </tr>\n",
       "    <tr>\n",
       "      <td>2</td>\n",
       "      <td>CASUAL DINING</td>\n",
       "      <td>10915</td>\n",
       "      <td>North Indian, Chinese, Biryani, Hyderabadi</td>\n",
       "      <td>11am – 3:30pm, 7pm – 11pm (Mon-Sun)</td>\n",
       "      <td>Chennai</td>\n",
       "      <td>Saligramam</td>\n",
       "      <td>3.8</td>\n",
       "      <td>221 votes</td>\n",
       "      <td>800</td>\n",
       "    </tr>\n",
       "    <tr>\n",
       "      <td>3</td>\n",
       "      <td>QUICK BITES</td>\n",
       "      <td>6346</td>\n",
       "      <td>Tibetan, Chinese</td>\n",
       "      <td>11:30am – 1am (Mon-Sun)</td>\n",
       "      <td>Mumbai</td>\n",
       "      <td>Bandra West</td>\n",
       "      <td>4.1</td>\n",
       "      <td>24 votes</td>\n",
       "      <td>800</td>\n",
       "    </tr>\n",
       "    <tr>\n",
       "      <td>4</td>\n",
       "      <td>DESSERT PARLOR</td>\n",
       "      <td>15387</td>\n",
       "      <td>Desserts</td>\n",
       "      <td>11am – 1am (Mon-Sun)</td>\n",
       "      <td>Mumbai</td>\n",
       "      <td>Lower Parel</td>\n",
       "      <td>3.8</td>\n",
       "      <td>165 votes</td>\n",
       "      <td>300</td>\n",
       "    </tr>\n",
       "  </tbody>\n",
       "</table>\n",
       "</div>"
      ],
      "text/plain": [
       "               TITLE  RESTAURANT_ID  \\\n",
       "0      CASUAL DINING           9438   \n",
       "1  CASUAL DINING,BAR          13198   \n",
       "2      CASUAL DINING          10915   \n",
       "3        QUICK BITES           6346   \n",
       "4     DESSERT PARLOR          15387   \n",
       "\n",
       "                                     CUISINES  \\\n",
       "0                 Malwani, Goan, North Indian   \n",
       "1              Asian, Modern Indian, Japanese   \n",
       "2  North Indian, Chinese, Biryani, Hyderabadi   \n",
       "3                            Tibetan, Chinese   \n",
       "4                                    Desserts   \n",
       "\n",
       "                                     TIME     CITY        LOCALITY RATING  \\\n",
       "0  11am – 4pm, 7:30pm – 11:30pm (Mon-Sun)    Thane  Dombivali East    3.6   \n",
       "1                    6pm – 11pm (Mon-Sun)  Chennai       Ramapuram    4.2   \n",
       "2     11am – 3:30pm, 7pm – 11pm (Mon-Sun)  Chennai      Saligramam    3.8   \n",
       "3                 11:30am – 1am (Mon-Sun)   Mumbai     Bandra West    4.1   \n",
       "4                    11am – 1am (Mon-Sun)   Mumbai     Lower Parel    3.8   \n",
       "\n",
       "       VOTES  COST  \n",
       "0   49 votes  1200  \n",
       "1   30 votes  1500  \n",
       "2  221 votes   800  \n",
       "3   24 votes   800  \n",
       "4  165 votes   300  "
      ]
     },
     "execution_count": 3,
     "metadata": {},
     "output_type": "execute_result"
    }
   ],
   "source": [
    "foodcost.head()"
   ]
  },
  {
   "cell_type": "code",
   "execution_count": 4,
   "metadata": {},
   "outputs": [
    {
     "data": {
      "text/plain": [
       "1204"
      ]
     },
     "execution_count": 4,
     "metadata": {},
     "output_type": "execute_result"
    }
   ],
   "source": [
    "foodcost['VOTES'].isnull().sum()"
   ]
  },
  {
   "cell_type": "code",
   "execution_count": 5,
   "metadata": {},
   "outputs": [],
   "source": [
    "foodcost['VOTES']=foodcost['VOTES'].str.replace('votes',' ')"
   ]
  },
  {
   "cell_type": "code",
   "execution_count": 6,
   "metadata": {},
   "outputs": [],
   "source": [
    "foodcost['VOTES']=foodcost['VOTES'].fillna('0')"
   ]
  },
  {
   "cell_type": "code",
   "execution_count": 7,
   "metadata": {},
   "outputs": [
    {
     "data": {
      "text/plain": [
       "0"
      ]
     },
     "execution_count": 7,
     "metadata": {},
     "output_type": "execute_result"
    }
   ],
   "source": [
    "foodcost['VOTES'].isnull().sum()"
   ]
  },
  {
   "cell_type": "code",
   "execution_count": 8,
   "metadata": {},
   "outputs": [
    {
     "data": {
      "text/plain": [
       "11am – 11pm (Mon-Sun)                                  1415\n",
       "12noon – 12midnight (Mon-Sun)                           469\n",
       "12noon – 11pm (Mon-Sun)                                 407\n",
       "11am – 12midnight (Mon-Sun)                             310\n",
       "10am – 10pm (Mon-Sun)                                   221\n",
       "                                                       ... \n",
       "12:30pm – 4pm, 6:30pm – 10:30pm (Mon-Sun)                 1\n",
       "6:30am – 10:30am, 12:30pm – 3pm, 6pm – 11:30pm...         1\n",
       "4:30pm – 11pm (Mon, Wed, Thu, Fri, Sat, Sun)...           1\n",
       "12:30pm – 2:45pm, 7pm – 11:45pm (Mon-Sat),12noon...       1\n",
       "(Mon),12noon – 4pm, 7pm – 10:30pm...                      1\n",
       "Name: TIME, Length: 2689, dtype: int64"
      ]
     },
     "execution_count": 8,
     "metadata": {},
     "output_type": "execute_result"
    }
   ],
   "source": [
    "foodcost['TIME'].value_counts()"
   ]
  },
  {
   "cell_type": "markdown",
   "metadata": {},
   "source": [
    "# Data analysis"
   ]
  },
  {
   "cell_type": "code",
   "execution_count": 9,
   "metadata": {
    "scrolled": false
   },
   "outputs": [
    {
     "name": "stdout",
     "output_type": "stream",
     "text": [
      "\n",
      "\n",
      "Maximum Titles in a Cell :  2\n",
      "\n",
      "\n",
      "Number of Unique Titles :  24\n",
      "\n",
      "\n",
      "Unique Titles:\n",
      " ['CASUAL DINING' 'BAR' 'QUICK BITES' 'DESSERT PARLOR' 'CAFÉ'\n",
      " 'MICROBREWERY' 'BEVERAGE SHOP' 'IRANI CAFE' 'BAKERY' 'NONE' 'PUB'\n",
      " 'FINE DINING' 'SWEET SHOP' 'LOUNGE' 'FOOD COURT' 'FOOD TRUCK' 'MESS'\n",
      " 'KIOSK' 'CLUB' 'CONFECTIONERY' 'DHABA' 'MEAT SHOP' 'COCKTAIL BAR'\n",
      " 'PAAN SHOP']\n",
      "\n",
      "\n",
      "Maximum cuisines in a Cell :  8\n",
      "\n",
      "\n",
      "Number of Unique Cuisines :  125\n",
      "\n",
      "\n",
      "Unique Cuisines:\n",
      " ['MALWANI' 'GOAN' 'NORTH INDIAN' 'ASIAN' 'MODERN INDIAN' 'JAPANESE'\n",
      " 'CHINESE' 'BIRYANI' 'HYDERABADI' 'TIBETAN' 'DESSERTS' 'SEAFOOD' 'CAFE'\n",
      " 'PIZZA' 'BURGER' 'BAR FOOD' 'SOUTH INDIAN' 'FAST FOOD' 'BEVERAGES'\n",
      " 'ARABIAN' 'MUGHLAI' 'MAHARASHTRIAN' 'PARSI' 'THAI' 'BAKERY' 'MOMOS'\n",
      " 'CONTINENTAL' 'EUROPEAN' 'ROLLS' 'ANDHRA' 'ITALIAN' 'BBQ' 'FINGER FOOD'\n",
      " 'TEA' 'AMERICAN' 'HEALTHY FOOD' 'COFFEE' 'INDONESIAN' 'KOREAN' 'NEPALESE'\n",
      " 'ICE CREAM' 'MEXICAN' 'KERALA' 'INDIAN' 'MITHAI' 'STREET FOOD'\n",
      " 'MALAYSIAN' 'VIETNAMESE' 'IRANIAN' 'KEBAB' 'JUICES' 'SANDWICH'\n",
      " 'MEDITERRANEAN' 'SALAD' 'GUJARATI' 'RAJASTHANI' 'TEX-MEX' 'ROAST CHICKEN'\n",
      " 'BURMESE' 'CHETTINAD' 'NORTH EASTERN' 'LEBANESE' 'COFFEE AND TEA' 'GRILL'\n",
      " '' 'BIHARI' 'BENGALI' 'LUCKNOWI' 'AWADHI' 'STEAK' 'FRENCH' 'PORTUGUESE'\n",
      " 'WRAPS' 'SRI LANKAN' 'ORIYA' 'ETHIOPIAN' 'KONKAN' 'SUSHI' 'SPANISH'\n",
      " 'RUSSIAN' 'MANGALOREAN' 'TURKISH' 'BUBBLE TEA' 'AFGHAN' 'NAGA'\n",
      " 'SINGAPOREAN' 'GERMAN' 'MIDDLE EASTERN' 'SINDHI' 'CANTONESE' 'HOT POT'\n",
      " 'PAN ASIAN' 'SATAY' 'DUMPLINGS' 'KASHMIRI' 'RAW MEATS' 'DRINKS ONLY'\n",
      " 'MOROCCAN' 'PANINI' 'CAFE FOOD' 'CHARCOAL CHICKEN' 'BELGIAN' 'MONGOLIAN'\n",
      " 'TAMIL' 'AFRICAN' 'PAAN' 'ASSAMESE' 'HOT DOGS' 'POKÉ' 'BRITISH' 'BOHRI'\n",
      " 'FUSION' 'ARMENIAN' 'SOUTH AMERICAN' 'GREEK' 'PAKISTANI' 'PERUVIAN'\n",
      " 'CUISINE VARIES' 'IRISH' 'MULTI CUISINE' 'JEWISH' 'VEGAN' 'ORIENTAL'\n",
      " 'MODERN AUSTRALIAN' 'EGYPTIAN']\n",
      "\n",
      "\n",
      "Number of Unique cities (Including NOT AVAILABLE):  355\n",
      "\n",
      "\n",
      "Unique Cities:\n",
      " ['THANE' 'CHENNAI' 'MUMBAI' 'BANGALORE' 'GURGAON' 'HYDERABAD' 'KOCHI'\n",
      " 'THANE WEST' 'ANDHERI LOKHANDWALA' 'NEW DELHI' 'ANDHERI WEST'\n",
      " 'MALAD EAST' '682036' 'BANGALOR' 'NAVI MUMBAI' 'BANDRA WEST' 'DELHI'\n",
      " 'NOIDA' 'BANGALORE-560066' 'SECUNDERABAD' 'NOT AVAILABLE' 'INDIA'\n",
      " 'MADHURANAGAR' 'CHENNAI TEYNAMPET' 'FARIDABAD' 'CHEMBUR.' 'MAHARASHTRA'\n",
      " 'OPP GURUDWARA SHAKURPUR' 'TELAGANA LAND LINE:040-48507016' 'GHAZIABAD'\n",
      " 'KARNATAKA' 'KERALA' 'EDAPPALLY' 'KADAVANTHRA' 'ERNAKULAM CIRCLE KOCHI'\n",
      " 'BENGALORE' 'NEAR RELIANCE FRESH' 'KILPAUK' 'BENGALURU' 'KOTHAGUDA'\n",
      " 'GOREGAON WEST' 'BANGLORE' 'TAMIL NADU' 'KAKKANAD' 'KOCHI ELAMKULAM'\n",
      " 'OUTER RING ROAD' 'MULUND EAST'\n",
      " 'SECUNDERABAD MAIN ROAD NEAR SIGNAL NMREC COLLEGE' 'TELANGANA'\n",
      " 'PONNURUNI KOCHI' 'GACHIBOWLI' 'SEMMANCHERI'\n",
      " '5TH MAIN TEACHERS COLONY KORAMANGALA BLOCK 1 BANGALORE 560034'\n",
      " 'MUMBAI MAHIM' 'POWAI (NEXT TO POWAI PLAZA)' 'DOMBIVALI EAST'\n",
      " 'KOCHI VYTTILA' 'KANDIVALI' 'KOCHI PALARIVATTOM' 'DEWAN RAMA ROAD'\n",
      " 'GURUGRAM' 'SECTOR 51 NOIDA' 'KALOOR' 'BESANT NAGAR'\n",
      " 'ARUMBAKKAM CHENNAI-600106.' 'ADJACENT TO COMMERCIAL STREET' 'DELHI NCR'\n",
      " 'DWARKA' '682035.' 'KALYAN WEST' 'AVADI' 'KONDAPUR' 'MEHDIPATNAM'\n",
      " 'GANDIPET' 'VELACHERY' 'PALLAVARAM' 'VIJAYA NAGAR' 'BTM LAYOUT'\n",
      " 'CHENNAI 600034.'\n",
      " 'METRO PILLAR NO 21. METTUGUDA MAIN ROAD NEAR RAILWAY DEGREE COLLEGE.'\n",
      " 'CHENNAI - 600040' 'JP NAGAR BANGALORE' 'MADHAPUR' 'ERNAKULAM' 'SARJAPUR'\n",
      " 'WHITEFIELD BANGALORE' 'KOCHI CHULLICKAL' 'KOCHI-683101'\n",
      " 'BANGALORE - 560076' 'ROHINI' 'HYDERABAD BEHIND VACS PASTRIES'\n",
      " 'HYDERABAD NEERUS EMPORIUM.' 'NAVI MUMBAI.' 'KAROL BAGH' 'PERUNGUDI'\n",
      " 'THYKOODAM' 'GREATER NOIDA' 'BANGALORE.' 'KHAIRATABAD' 'CHULLICKAL'\n",
      " 'GRANT ROAD WEST' 'HITECH CITY' 'WEST MAREDPALLY' 'MUMBAI - 400007'\n",
      " 'CHENNAI PADUR' 'CHANDER NAGAR NEW DELHI' 'NEDUMBASSERY' 'MG ROAD'\n",
      " 'NAYA NAGAR MIRA ROAD' 'PITAMPURA' 'LOWER PAREL' 'HBR LAYOUT'\n",
      " 'TELANGANA 500003' 'RAJIV GANDHI NAGAR' 'NEW DELHI.' 'MEDAVAKKAM'\n",
      " 'SATHYA NAGAR' 'P.O KOCHI' 'BEHIND RAMALAYAM TEMPLE' 'PALARIVATTOM'\n",
      " 'BRIGADE ROAD' 'MUMBAI.' 'MUMBAI ANDHERI EAST' 'VIRAR WEST' 'B-1 STAGE'\n",
      " 'CHENNAI KOVALAM' 'HYDERABAD.' 'ALUVA' 'TELANGANA 500034'\n",
      " 'IOB BANK KAMALA NAGAR' 'HSR LAYOUT' 'MARINE DRIVE' 'DLF GALLERIA'\n",
      " 'NALLATHAMBI MAIN ROAD' 'CHENNAI OPP: VASANTH & CO' 'CITYPARK'\n",
      " 'KARNATAKA 560103' 'BHAYANDAR' 'ALUVA CIRCLE' 'THAMMENAHALLI VILLAGE'\n",
      " 'SG PALYA' 'ATTAPUR.' 'NEAR SHANGRILLA BUS STOP' 'KHAR (WEST)' 'ROAD 3'\n",
      " 'KUKATPALLY' 'FARIDABD' 'TELANGANA 500032' 'DILSUKHNAGAR'\n",
      " 'MOGAPPAIR. CHENNAI' 'NEAR MUNRSHWARA TEMPLE' 'OFF BRIGADE ROAD'\n",
      " 'KHAR WEST' 'POTHERI' 'CHENNAI PERUNGUDI' 'CHENNAI THURAIPAKKAM'\n",
      " 'OMR KARAPAKKAM' 'HYDERABAD-500032' 'MUMBAI DOMBIVALI EAST'\n",
      " 'CHENNAI THOUSAND LIGHTS' 'MAHIM' 'LINGAMPALLY' 'POWAI'\n",
      " 'NEW DELHI-110024' 'CHENNAI- 600107' 'KERALA 683104' 'VASAI WEST.'\n",
      " 'THANE (W)' 'NEAR SANTOSH BANJARA HYDERABAD'\n",
      " 'BANASWADI (NEXT TO INDIAN BANK) BANGALORE' 'BTM BANGALORE'\n",
      " 'GREATER KAILASH 2 NEW DELHI' 'SECUNDERABAD ECIL'\n",
      " 'BANGALORE KORAMANGALA 7TH BLOCK' 'BANGALORE : 560085'\n",
      " 'GACHIBOWLI HYDERABAD'\n",
      " 'CPR LAYOUT HARLUR MAIN ROAD OPPOSITE TO OZONE EVER GREEN APARTMENT BANGALORE -'\n",
      " 'ECR NEELANKARAI CHENNAI 600115' 'WARD X11' 'PERUMBAVOOR'\n",
      " 'MIRA RAOD EAST' 'KERALA 682013' 'CHENNAI.' 'POKHRAN ROAD 2'\n",
      " 'UTTAR PRADESH' 'KARNATAKA 560102' 'MUMBAI - 400013' 'NAHARPAR'\n",
      " 'HOSUR ROAD' 'NEAR BHARAT PETROLEUM.'\n",
      " 'CHENNAI (BANG OPPOSITE INDIAN BANK)' 'SRIRAM NAGAR' 'WEST MUMBAI'\n",
      " 'VYTTILA' 'BANJARA HILLS' 'MALAPALLIPURAM P .O THRISSUR'\n",
      " 'ANDHERI WEST MUMBAI' 'KARNATAKA 560043' 'PANAMPILLY NAGAR'\n",
      " 'BORIVALI EAST.' 'ECIL' 'JUBILEE HILLS'\n",
      " 'AMRIT KAUR MARKET OPPOSITE NEW DELHI RAILWAY STATION PAHARGANJ'\n",
      " 'CHENNAI OPPOSITE 5C BUS STAND' 'TELENGANA' 'KOCHI RAVIPURAM' 'RAJANPADA'\n",
      " 'MAHABALIPURAM' 'SECUNDERABAD. WE HAVE NO BRANCHES.' 'TELANGANA 500081'\n",
      " 'GURGOAN' 'ELAMAKKARA' 'SECTOR 1' 'BANDRA W' 'KOLATHUR'\n",
      " 'CHENNAI MAHABALIPURAM' '3RD STREET' 'MUMBAI CHAKALA' 'BORIVALI WEST'\n",
      " 'RODEO DRIVE SECTOR 49' 'PALLIMUKKU' 'DELHI 110085' 'SECTOR 51'\n",
      " 'CHAMPAPET' 'ANDAVAR NAGAR' 'BANGALORE - 560103' 'KERALA 690525'\n",
      " 'OPP MUKTESHWAR ASHRAM POWAI' 'NUNGAMBAKKAM' 'BK GUDA'\n",
      " 'JOGESHWARI (W) MUMBAI' 'KUKATAPALLY' 'NEAR SECTOR 110 NOIDA' 'NAVALLUR'\n",
      " 'BESIDE EXCELLENCY GARDENS' 'MUMBAI - 80' 'BEGUMPET'\n",
      " 'MAHARAJA HOTEL BESIDE GARDANIA BAR' 'ASHOK VIHAR PHASE 1' 'TRIVANDRUM'\n",
      " 'KOCHI-18' 'NARAYANGUDA' 'THEVERA' 'CHENNAI-40' 'PALM BEACH ROAD'\n",
      " 'EAST COAST ROAD (ECR)' 'RAMAPURAM' 'CHENNAI CHROMPET' 'NANDANAM' 'SAKET'\n",
      " 'MG ROAD ERNAKULAM' 'ANDHERI LOKHANDWALA.' 'INDIRANAGAR' 'THIRUVANMIYUR'\n",
      " 'AMBATTUR' 'BANGLAORE' 'CHENNAI - 34 LANDMARK - NEAR LOYOLA COLLEGE'\n",
      " 'ANNA NAGAR WEST' 'OLD RAILWAY ROAD' 'EAST MUMBAI'\n",
      " 'KANAKAPURA ROAD BANGLORE' 'KOCHI KAKKANAD' 'KALYAN'\n",
      " 'NEAR RAMLILA GROUND' 'SERILINGAMPALLY' 'HIMAYATH NAGAR' 'NALLALA STREET'\n",
      " 'ANNA SALAI' 'OLD DELHI' 'WAGLE ESTATE' '1ST STAGE' 'KOCHI-16'\n",
      " 'KOCHI INTERNATIONAL AIRPORT VIP ROAD' 'FIRST STREET' 'CHENN AI'\n",
      " '6 & 7 - 4/64 SUBHASH NAGAR' '1ST TAVAREKERE' 'PERAMBUR'\n",
      " 'VAISHALI GHAZIABAD' 'THANISANDRA' 'BLOCK F' 'SECTOR 7 DWARKA'\n",
      " 'OPPOSITE BARATHI GAS COMPANY' 'VADAPALANI' 'KONDAPUR.' 'BADLAPUR WEST.'\n",
      " 'KALAMASSERY' 'PALAVAKKAM' 'TCS SYNERGY PARK' 'BTM 1ST STAGE'\n",
      " 'MAHADEVPURA' 'NEW BEL ROAD 560054'\n",
      " 'VELIAVEETIL HOUSE VIVEKANANDA NAGAR ELAMAKKARA' 'SHOLINGANALLUR'\n",
      " 'MAHARASHTRA 400102' 'LOWER PAREL WEST' 'TRIPUNITHURA' 'MOGAPPAIR'\n",
      " 'TELANGANA 500070' 'JP NAGAR' 'NAVI-MUMBAI' 'ASHOK NAGAR' 'MARATHAHALLI'\n",
      " 'HARIDWAR APARTMENTS' 'KERALA 682001 INDIA' 'KARNATAKA 560037'\n",
      " 'KERALA 683585' 'CHENNAI. (NEAR HOTEL MATSHYA)' 'INDIRAPURAM'\n",
      " 'BEGUMPET HYDERABAD' 'MANIKONDA'\n",
      " 'BANGALORE LAND MARK ABOVE MAHAVEER HARD WARE' 'KERALA 682304'\n",
      " 'RAJARAJESHWARI NAGAR BANGALORE' 'GST ROAD' 'FORT KOCHI'\n",
      " 'LAHARI APARTMENTS' 'RAMANTHAPUR' 'MULUND WEST' 'GURGAON HARYANA INDIA'\n",
      " 'NEW DELHI..NEAR BY SBI BANK' 'KOCHI ALUVA 102' 'PHASE 1 BANGALORE'\n",
      " 'HYDERABAD MANIKONDA'\n",
      " 'MUMBAI THIS IS A DELIVERY & TAKE-AWAY RESTAURANT ONLY.' '10TH AVENUE'\n",
      " 'UPPAL' 'NEW DELHI 110075' 'NIZAMPET' 'ULSOO' 'BANGALORE 560076'\n",
      " 'PVR PLAZA CINEMA BUILDING CONNAUGHT PLACE' 'GURGAON HARYANA' 'CHROMEPET'\n",
      " 'KERALA 682024' 'JANAKPURI' 'SECUNDERABAD.'\n",
      " 'B.B.M.P EAST (KARNATAKA) - 560049' 'TAMBARAM' 'MALLESHWARAM BANGALORE'\n",
      " 'VADAPALANI.' 'DIST. CENTER NEW DELHI' 'BANGALORE ROAD' 'KOCHI.'\n",
      " 'THANE MUMBAI' 'KADUBESANAHALLI BANGALORE' 'VASAI WEST'\n",
      " 'MIG HOUSING SOCIETY' 'HARYANA' 'BORIVALI WEST.' 'GOLF COURSE ROAD'\n",
      " 'KHAR MUMBAI' 'NEAR JYOTHINIVAS COLLEGE' 'ANNA NAGAR EAST' 'MASAB TANK']\n",
      "\n",
      "\n",
      "Number of Unique Localities (Including NOT AVAILABLE) :  1399\n",
      "\n",
      "\n",
      "Unique Localities:\n",
      " ['DOMBIVALI EAST' 'RAMAPURAM' 'SALIGRAMAM' ... 'MARKET ROAD'\n",
      " 'NEAR PERAMBUR' 'NEAR MALVIYA NAGAR']\n"
     ]
    }
   ],
   "source": [
    "# Analysing Titles \n",
    "\n",
    "titles = list(foodcost['TITLE'])\n",
    "\n",
    "# Finding Maximum number of titles mentioned in a single cell\n",
    "maxim = 1\n",
    "for i in titles :\n",
    "    if len(i.split(',')) > maxim:\n",
    "         maxim = len(i.split(','))\n",
    "         \n",
    "print(\"\\n\\nMaximum Titles in a Cell : \", maxim)    \n",
    "\n",
    "all_titles = []\n",
    "\n",
    "for i in titles :\n",
    "    if len(i.split(',')) == 1:\n",
    "         all_titles.append(i.split(',')[0].strip().upper())\n",
    "    else :\n",
    "        for it in range(len(i.split(','))):\n",
    "            all_titles.append(i.split(',')[it].strip().upper())\n",
    "\n",
    "print(\"\\n\\nNumber of Unique Titles : \", len(pd.Series(all_titles).unique()))\n",
    "print(\"\\n\\nUnique Titles:\\n\", pd.Series(all_titles).unique())\n",
    "\n",
    "all_titles = list(pd.Series(all_titles).unique())\n",
    "\n",
    "# Analysing cuisines \n",
    "\n",
    "cuisines = list(foodcost['CUISINES'])\n",
    "\n",
    "maxim = 1\n",
    "for i in cuisines :\n",
    "    if len(i.split(',')) > maxim:\n",
    "         maxim = len(i.split(','))\n",
    "         \n",
    "print(\"\\n\\nMaximum cuisines in a Cell : \", maxim)    \n",
    "\n",
    "all_cuisines = []\n",
    "\n",
    "for i in cuisines :\n",
    "    if len(i.split(',')) == 1:\n",
    "         #print(i.split(',')[0])\n",
    "         all_cuisines.append(i.split(',')[0].strip().upper())\n",
    "    else :\n",
    "        for it in range(len(i.split(','))):\n",
    "            #print(i.split(',')[it])\n",
    "            all_cuisines.append(i.split(',')[it].strip().upper())\n",
    "\n",
    "print(\"\\n\\nNumber of Unique Cuisines : \", len(pd.Series(all_cuisines).unique()))\n",
    "print(\"\\n\\nUnique Cuisines:\\n\", pd.Series(all_cuisines).unique())\n",
    "\n",
    "all_cuisines = list(pd.Series(all_cuisines).unique())\n",
    "\n",
    "# Analysing CITY\n",
    "\n",
    "all_cities = list(foodcost['CITY'])\n",
    "\n",
    "for i in range(len(all_cities)):\n",
    "    if type(all_cities[i]) == float:\n",
    "        all_cities[i] = 'NOT AVAILABLE'\n",
    "    all_cities[i] = all_cities[i].strip().upper()\n",
    "        \n",
    "print(\"\\n\\nNumber of Unique cities (Including NOT AVAILABLE): \", len(pd.Series(all_cities).unique()))\n",
    "print(\"\\n\\nUnique Cities:\\n\", pd.Series(all_cities).unique())\n",
    " \n",
    "all_cities = list(pd.Series(all_cities).unique())\n",
    "\n",
    "\n",
    "# Cleaning LOCALITY\n",
    "\n",
    "all_localities = list(foodcost['LOCALITY'])\n",
    "\n",
    "for i in range(len(all_localities)):\n",
    "    if type(all_localities[i]) == float:\n",
    "        all_localities[i] = 'NOT AVAILABLE'\n",
    "    all_localities[i] = all_localities[i].strip().upper()\n",
    "        \n",
    "print(\"\\n\\nNumber of Unique Localities (Including NOT AVAILABLE) : \", len(pd.Series(all_localities).unique()))\n",
    "print(\"\\n\\nUnique Localities:\\n\", pd.Series(all_localities).unique())\n",
    "\n",
    "all_localities = list(pd.Series(all_localities).unique())"
   ]
  },
  {
   "cell_type": "code",
   "execution_count": 10,
   "metadata": {},
   "outputs": [],
   "source": [
    "# Cleaning Training Set\n",
    "#______________________\n",
    "\n",
    "# TITLE\n",
    "\n",
    "\n",
    "titles = list(foodcost['TITLE'])\n",
    "\n",
    "# Since Maximum number of titles in a cell is 2 will will split title in to 2 columns\n",
    "T1 = []\n",
    "T2 = []\n",
    "\n",
    "for i in titles:\n",
    "    T1.append(i.split(',')[0].strip().upper())\n",
    "    try :\n",
    "         T2.append(i.split(',')[1].strip().upper())\n",
    "    except :\n",
    "         T2.append('NONE')\n",
    "\n",
    "# appending NONE to Unique titles list\n",
    "all_titles.append('NONE')\n",
    "\n",
    "#Cleaning CUISINES \n",
    "\n",
    "cuisines = list(foodcost['CUISINES'])\n",
    "   \n",
    "# Since Maximum number of cuisines in a cell is 8 will will split title in to 8 columns\n",
    "   \n",
    "C1 = []\n",
    "C2 = []\n",
    "C3 = []\n",
    "C4 = []\n",
    "C5 = []\n",
    "C6 = []\n",
    "C7 = []\n",
    "C8 = []\n",
    "\n",
    "\n",
    "for i in cuisines:\n",
    "        try :\n",
    "            C1.append(i.split(',')[0].strip().upper())\n",
    "        except :\n",
    "            C1.append('NONE')\n",
    "        try :\n",
    "            C2.append(i.split(',')[1].strip().upper())\n",
    "        except :\n",
    "            C2.append('NONE')\n",
    "        try :\n",
    "            C3.append(i.split(',')[2].strip().upper())\n",
    "        except :\n",
    "            C3.append('NONE')\n",
    "        try :\n",
    "            C4.append(i.split(',')[3].strip().upper())\n",
    "        except :\n",
    "            C4.append('NONE')\n",
    "        try :\n",
    "            C5.append(i.split(',')[4].strip().upper())\n",
    "        except :\n",
    "            C5.append('NONE')\n",
    "        try :\n",
    "            C6.append(i.split(',')[5].strip().upper())\n",
    "        except :\n",
    "            C6.append('NONE')\n",
    "        try :\n",
    "            C7.append(i.split(',')[6].strip().upper())\n",
    "        except :\n",
    "            C7.append('NONE')\n",
    "        try :\n",
    "            C8.append(i.split(',')[7].strip().upper())\n",
    "        except :\n",
    "            C8.append('NONE')\n",
    "\n",
    "# appending NONE to Unique cuisines list\n",
    "all_cuisines.append('NONE')\n",
    "\n",
    "# Cleaning CITY\n",
    "\n",
    "cities = list(foodcost['CITY'])\n",
    "\n",
    "for i in range(len(cities)):\n",
    "    if type(cities[i]) == float:\n",
    "        cities[i] = 'NOT AVAILABLE'\n",
    "    cities[i] = cities[i].strip().upper()\n",
    "        \n",
    "\n",
    "# Cleaning LOCALITY\n",
    "\n",
    "localities = list(foodcost['LOCALITY'])\n",
    "\n",
    "for i in range(len(localities)):\n",
    "    if type(localities[i]) == float:\n",
    "        localities[i] = 'NOT AVAILABLE'\n",
    "    localities[i] = localities[i].strip().upper()   \n",
    "    \n",
    "\n",
    "#Cleaning Rating\n",
    "\n",
    "rates = list(foodcost['RATING'])\n",
    "\n",
    "for i in range(len(rates)) :\n",
    "    try:\n",
    "       rates[i] = float(rates[i])\n",
    "    except :\n",
    "       rates[i] = np.nan\n",
    "\n",
    "\n",
    "# Votes\n",
    "       \n",
    "votes = list(foodcost['VOTES'])\n",
    "\n",
    "for i in range(len(votes)) :\n",
    "    try:\n",
    "       votes[i] = int(votes[i].split(\" \")[0].strip())\n",
    "    except :\n",
    "       pass        \n",
    "\n",
    "new_data_train = {}\n",
    "\n",
    "new_data_train['TITLE1'] = T1\n",
    "new_data_train['TITLE2'] = T2\n",
    "new_data_train['RESTAURANT_ID'] = foodcost[\"RESTAURANT_ID\"]\n",
    "new_data_train['CUISINE1'] = C1\n",
    "new_data_train['CUISINE2'] = C2\n",
    "new_data_train['CUISINE3'] = C3\n",
    "new_data_train['CUISINE4'] = C4\n",
    "new_data_train['CUISINE5'] = C5\n",
    "new_data_train['CUISINE6'] = C6\n",
    "new_data_train['CUISINE7'] = C7\n",
    "new_data_train['CUISINE8'] = C8\n",
    "new_data_train['CITY'] = cities\n",
    "new_data_train['LOCALITY'] = localities\n",
    "new_data_train['RATING'] = rates\n",
    "new_data_train['VOTES'] = votes\n",
    "new_data_train['COST'] = foodcost[\"COST\"]\n",
    "\n",
    "new_data_train = pd.DataFrame(new_data_train)"
   ]
  },
  {
   "cell_type": "markdown",
   "metadata": {},
   "source": [
    "Now i decided to not to use time feature."
   ]
  },
  {
   "cell_type": "code",
   "execution_count": 30,
   "metadata": {},
   "outputs": [
    {
     "data": {
      "text/html": [
       "<div>\n",
       "<style scoped>\n",
       "    .dataframe tbody tr th:only-of-type {\n",
       "        vertical-align: middle;\n",
       "    }\n",
       "\n",
       "    .dataframe tbody tr th {\n",
       "        vertical-align: top;\n",
       "    }\n",
       "\n",
       "    .dataframe thead th {\n",
       "        text-align: right;\n",
       "    }\n",
       "</style>\n",
       "<table border=\"1\" class=\"dataframe\">\n",
       "  <thead>\n",
       "    <tr style=\"text-align: right;\">\n",
       "      <th></th>\n",
       "      <th>TITLE1</th>\n",
       "      <th>TITLE2</th>\n",
       "      <th>CUISINE1</th>\n",
       "      <th>CUISINE2</th>\n",
       "      <th>CUISINE3</th>\n",
       "      <th>CUISINE4</th>\n",
       "      <th>CUISINE5</th>\n",
       "      <th>CUISINE6</th>\n",
       "      <th>CUISINE7</th>\n",
       "      <th>CUISINE8</th>\n",
       "      <th>CITY</th>\n",
       "      <th>LOCALITY</th>\n",
       "      <th>RATING</th>\n",
       "      <th>VOTES</th>\n",
       "      <th>COST</th>\n",
       "    </tr>\n",
       "  </thead>\n",
       "  <tbody>\n",
       "    <tr>\n",
       "      <td>0</td>\n",
       "      <td>4</td>\n",
       "      <td>19</td>\n",
       "      <td>70</td>\n",
       "      <td>44</td>\n",
       "      <td>87</td>\n",
       "      <td>85</td>\n",
       "      <td>85</td>\n",
       "      <td>85</td>\n",
       "      <td>85</td>\n",
       "      <td>85</td>\n",
       "      <td>327</td>\n",
       "      <td>279</td>\n",
       "      <td>3.6</td>\n",
       "      <td>49</td>\n",
       "      <td>1200</td>\n",
       "    </tr>\n",
       "    <tr>\n",
       "      <td>1</td>\n",
       "      <td>4</td>\n",
       "      <td>1</td>\n",
       "      <td>7</td>\n",
       "      <td>77</td>\n",
       "      <td>58</td>\n",
       "      <td>85</td>\n",
       "      <td>85</td>\n",
       "      <td>85</td>\n",
       "      <td>85</td>\n",
       "      <td>85</td>\n",
       "      <td>67</td>\n",
       "      <td>1038</td>\n",
       "      <td>4.2</td>\n",
       "      <td>30</td>\n",
       "      <td>1500</td>\n",
       "    </tr>\n",
       "    <tr>\n",
       "      <td>2</td>\n",
       "      <td>4</td>\n",
       "      <td>19</td>\n",
       "      <td>87</td>\n",
       "      <td>28</td>\n",
       "      <td>17</td>\n",
       "      <td>51</td>\n",
       "      <td>85</td>\n",
       "      <td>85</td>\n",
       "      <td>85</td>\n",
       "      <td>85</td>\n",
       "      <td>67</td>\n",
       "      <td>1093</td>\n",
       "      <td>3.8</td>\n",
       "      <td>221</td>\n",
       "      <td>800</td>\n",
       "    </tr>\n",
       "    <tr>\n",
       "      <td>3</td>\n",
       "      <td>22</td>\n",
       "      <td>19</td>\n",
       "      <td>121</td>\n",
       "      <td>28</td>\n",
       "      <td>85</td>\n",
       "      <td>85</td>\n",
       "      <td>85</td>\n",
       "      <td>85</td>\n",
       "      <td>85</td>\n",
       "      <td>85</td>\n",
       "      <td>225</td>\n",
       "      <td>127</td>\n",
       "      <td>4.1</td>\n",
       "      <td>24</td>\n",
       "      <td>800</td>\n",
       "    </tr>\n",
       "    <tr>\n",
       "      <td>4</td>\n",
       "      <td>8</td>\n",
       "      <td>19</td>\n",
       "      <td>33</td>\n",
       "      <td>85</td>\n",
       "      <td>85</td>\n",
       "      <td>85</td>\n",
       "      <td>85</td>\n",
       "      <td>85</td>\n",
       "      <td>85</td>\n",
       "      <td>85</td>\n",
       "      <td>225</td>\n",
       "      <td>613</td>\n",
       "      <td>3.8</td>\n",
       "      <td>165</td>\n",
       "      <td>300</td>\n",
       "    </tr>\n",
       "  </tbody>\n",
       "</table>\n",
       "</div>"
      ],
      "text/plain": [
       "   TITLE1  TITLE2  CUISINE1  CUISINE2  CUISINE3  CUISINE4  CUISINE5  CUISINE6  \\\n",
       "0       4      19        70        44        87        85        85        85   \n",
       "1       4       1         7        77        58        85        85        85   \n",
       "2       4      19        87        28        17        51        85        85   \n",
       "3      22      19       121        28        85        85        85        85   \n",
       "4       8      19        33        85        85        85        85        85   \n",
       "\n",
       "   CUISINE7  CUISINE8  CITY  LOCALITY  RATING  VOTES  COST  \n",
       "0        85        85   327       279     3.6     49  1200  \n",
       "1        85        85    67      1038     4.2     30  1500  \n",
       "2        85        85    67      1093     3.8    221   800  \n",
       "3        85        85   225       127     4.1     24   800  \n",
       "4        85        85   225       613     3.8    165   300  "
      ]
     },
     "execution_count": 30,
     "metadata": {},
     "output_type": "execute_result"
    }
   ],
   "source": [
    "new_data_train.head()"
   ]
  },
  {
   "cell_type": "markdown",
   "metadata": {},
   "source": [
    "Now data looking perfect .."
   ]
  },
  {
   "cell_type": "markdown",
   "metadata": {},
   "source": [
    "# Data Preprocessing"
   ]
  },
  {
   "cell_type": "markdown",
   "metadata": {},
   "source": [
    "\n",
    "Dealing with missing values\n",
    "Encoding categorical features\n",
    "Feature Scaling"
   ]
  },
  {
   "cell_type": "code",
   "execution_count": 11,
   "metadata": {},
   "outputs": [
    {
     "name": "stdout",
     "output_type": "stream",
     "text": [
      "\n",
      "\n",
      "Missing Values in Training Set\n",
      " ############################################################\n",
      "\n",
      "Contains NaN/Empty cells :  True\n",
      "\n",
      "Total empty cells by column\n",
      " ____________________________________________________________ \n",
      " TITLE1              0\n",
      "TITLE2              0\n",
      "RESTAURANT_ID       0\n",
      "CUISINE1            0\n",
      "CUISINE2            0\n",
      "CUISINE3            0\n",
      "CUISINE4            0\n",
      "CUISINE5            0\n",
      "CUISINE6            0\n",
      "CUISINE7            0\n",
      "CUISINE8            0\n",
      "CITY                0\n",
      "LOCALITY            0\n",
      "RATING           1204\n",
      "VOTES               0\n",
      "COST                0\n",
      "dtype: int64\n",
      "\n",
      "\n",
      "After Filling 0:\n",
      " ____________________________________________________________ \n",
      "\n",
      "\n",
      "Contains NaN/Empty cells :  False\n"
     ]
    }
   ],
   "source": [
    "print(\"\\n\\nMissing Values in Training Set\\n\",\"#\"*60)\n",
    "print(\"\\nContains NaN/Empty cells : \", new_data_train.isnull().values.any())\n",
    "print(\"\\nTotal empty cells by column\\n\",\"_\"*60,\"\\n\", new_data_train.isnull().sum())\n",
    "\n",
    "new_data_train.fillna(0, inplace = True)\n",
    "\n",
    "print(\"\\n\\nAfter Filling 0:\\n\",\"_\"*60,\"\\n\")\n",
    "print(\"\\nContains NaN/Empty cells : \", new_data_train.isnull().values.any())"
   ]
  },
  {
   "cell_type": "code",
   "execution_count": 12,
   "metadata": {},
   "outputs": [],
   "source": [
    "# Encoding Categorical Variables\n",
    "#_______________________________\n",
    "\n",
    "\n",
    "from sklearn.preprocessing import LabelEncoder\n",
    "\n",
    "le_titles = LabelEncoder()\n",
    "le_cuisines = LabelEncoder()\n",
    "\n",
    "le_city = LabelEncoder()\n",
    "\n",
    "le_locality = LabelEncoder()\n",
    "\n",
    "\n",
    "le_titles.fit(all_titles)\n",
    "le_cuisines.fit(all_cuisines)\n",
    "\n",
    "le_city.fit(all_cities)\n",
    "le_locality.fit(all_localities)\n",
    "\n",
    "\n",
    "\n",
    "# Training Set  \n",
    "\n",
    "new_data_train['TITLE1'] = le_titles.transform(new_data_train['TITLE1'])\n",
    "new_data_train['TITLE2'] = le_titles.transform(new_data_train['TITLE2'])\n",
    "\n",
    "\n",
    "new_data_train['CUISINE1'] = le_cuisines.transform(new_data_train['CUISINE1'])\n",
    "new_data_train['CUISINE2'] = le_cuisines.transform(new_data_train['CUISINE2'])\n",
    "new_data_train['CUISINE3'] = le_cuisines.transform(new_data_train['CUISINE3'])\n",
    "new_data_train['CUISINE4'] = le_cuisines.transform(new_data_train['CUISINE4'])\n",
    "new_data_train['CUISINE5'] = le_cuisines.transform(new_data_train['CUISINE5'])\n",
    "new_data_train['CUISINE6'] = le_cuisines.transform(new_data_train['CUISINE6'])\n",
    "new_data_train['CUISINE7'] = le_cuisines.transform(new_data_train['CUISINE7'])\n",
    "new_data_train['CUISINE8'] = le_cuisines.transform(new_data_train['CUISINE8'])\n",
    "\n",
    "\n",
    "new_data_train['CITY'] = le_city.transform(new_data_train['CITY'])\n",
    "new_data_train['LOCALITY'] = le_locality.transform(new_data_train['LOCALITY'])"
   ]
  },
  {
   "cell_type": "code",
   "execution_count": 13,
   "metadata": {},
   "outputs": [
    {
     "data": {
      "text/html": [
       "<div>\n",
       "<style scoped>\n",
       "    .dataframe tbody tr th:only-of-type {\n",
       "        vertical-align: middle;\n",
       "    }\n",
       "\n",
       "    .dataframe tbody tr th {\n",
       "        vertical-align: top;\n",
       "    }\n",
       "\n",
       "    .dataframe thead th {\n",
       "        text-align: right;\n",
       "    }\n",
       "</style>\n",
       "<table border=\"1\" class=\"dataframe\">\n",
       "  <thead>\n",
       "    <tr style=\"text-align: right;\">\n",
       "      <th></th>\n",
       "      <th>TITLE1</th>\n",
       "      <th>TITLE2</th>\n",
       "      <th>RESTAURANT_ID</th>\n",
       "      <th>CUISINE1</th>\n",
       "      <th>CUISINE2</th>\n",
       "      <th>CUISINE3</th>\n",
       "      <th>CUISINE4</th>\n",
       "      <th>CUISINE5</th>\n",
       "      <th>CUISINE6</th>\n",
       "      <th>CUISINE7</th>\n",
       "      <th>CUISINE8</th>\n",
       "      <th>CITY</th>\n",
       "      <th>LOCALITY</th>\n",
       "      <th>RATING</th>\n",
       "      <th>VOTES</th>\n",
       "      <th>COST</th>\n",
       "    </tr>\n",
       "  </thead>\n",
       "  <tbody>\n",
       "    <tr>\n",
       "      <td>0</td>\n",
       "      <td>4</td>\n",
       "      <td>19</td>\n",
       "      <td>9438</td>\n",
       "      <td>70</td>\n",
       "      <td>44</td>\n",
       "      <td>87</td>\n",
       "      <td>85</td>\n",
       "      <td>85</td>\n",
       "      <td>85</td>\n",
       "      <td>85</td>\n",
       "      <td>85</td>\n",
       "      <td>327</td>\n",
       "      <td>279</td>\n",
       "      <td>3.6</td>\n",
       "      <td>49</td>\n",
       "      <td>1200</td>\n",
       "    </tr>\n",
       "    <tr>\n",
       "      <td>1</td>\n",
       "      <td>4</td>\n",
       "      <td>1</td>\n",
       "      <td>13198</td>\n",
       "      <td>7</td>\n",
       "      <td>77</td>\n",
       "      <td>58</td>\n",
       "      <td>85</td>\n",
       "      <td>85</td>\n",
       "      <td>85</td>\n",
       "      <td>85</td>\n",
       "      <td>85</td>\n",
       "      <td>67</td>\n",
       "      <td>1038</td>\n",
       "      <td>4.2</td>\n",
       "      <td>30</td>\n",
       "      <td>1500</td>\n",
       "    </tr>\n",
       "    <tr>\n",
       "      <td>2</td>\n",
       "      <td>4</td>\n",
       "      <td>19</td>\n",
       "      <td>10915</td>\n",
       "      <td>87</td>\n",
       "      <td>28</td>\n",
       "      <td>17</td>\n",
       "      <td>51</td>\n",
       "      <td>85</td>\n",
       "      <td>85</td>\n",
       "      <td>85</td>\n",
       "      <td>85</td>\n",
       "      <td>67</td>\n",
       "      <td>1093</td>\n",
       "      <td>3.8</td>\n",
       "      <td>221</td>\n",
       "      <td>800</td>\n",
       "    </tr>\n",
       "    <tr>\n",
       "      <td>3</td>\n",
       "      <td>22</td>\n",
       "      <td>19</td>\n",
       "      <td>6346</td>\n",
       "      <td>121</td>\n",
       "      <td>28</td>\n",
       "      <td>85</td>\n",
       "      <td>85</td>\n",
       "      <td>85</td>\n",
       "      <td>85</td>\n",
       "      <td>85</td>\n",
       "      <td>85</td>\n",
       "      <td>225</td>\n",
       "      <td>127</td>\n",
       "      <td>4.1</td>\n",
       "      <td>24</td>\n",
       "      <td>800</td>\n",
       "    </tr>\n",
       "    <tr>\n",
       "      <td>4</td>\n",
       "      <td>8</td>\n",
       "      <td>19</td>\n",
       "      <td>15387</td>\n",
       "      <td>33</td>\n",
       "      <td>85</td>\n",
       "      <td>85</td>\n",
       "      <td>85</td>\n",
       "      <td>85</td>\n",
       "      <td>85</td>\n",
       "      <td>85</td>\n",
       "      <td>85</td>\n",
       "      <td>225</td>\n",
       "      <td>613</td>\n",
       "      <td>3.8</td>\n",
       "      <td>165</td>\n",
       "      <td>300</td>\n",
       "    </tr>\n",
       "  </tbody>\n",
       "</table>\n",
       "</div>"
      ],
      "text/plain": [
       "   TITLE1  TITLE2  RESTAURANT_ID  CUISINE1  CUISINE2  CUISINE3  CUISINE4  \\\n",
       "0       4      19           9438        70        44        87        85   \n",
       "1       4       1          13198         7        77        58        85   \n",
       "2       4      19          10915        87        28        17        51   \n",
       "3      22      19           6346       121        28        85        85   \n",
       "4       8      19          15387        33        85        85        85   \n",
       "\n",
       "   CUISINE5  CUISINE6  CUISINE7  CUISINE8  CITY  LOCALITY  RATING  VOTES  COST  \n",
       "0        85        85        85        85   327       279     3.6     49  1200  \n",
       "1        85        85        85        85    67      1038     4.2     30  1500  \n",
       "2        85        85        85        85    67      1093     3.8    221   800  \n",
       "3        85        85        85        85   225       127     4.1     24   800  \n",
       "4        85        85        85        85   225       613     3.8    165   300  "
      ]
     },
     "execution_count": 13,
     "metadata": {},
     "output_type": "execute_result"
    }
   ],
   "source": [
    "new_data_train.head()"
   ]
  },
  {
   "cell_type": "code",
   "execution_count": 14,
   "metadata": {},
   "outputs": [],
   "source": [
    "new_data_train.drop('RESTAURANT_ID',inplace=True,axis=1)"
   ]
  },
  {
   "cell_type": "markdown",
   "metadata": {},
   "source": [
    "# Exploratory Data Analysis"
   ]
  },
  {
   "cell_type": "code",
   "execution_count": 15,
   "metadata": {},
   "outputs": [
    {
     "data": {
      "text/plain": [
       "array([[<matplotlib.axes._subplots.AxesSubplot object at 0x000001E287E7F348>,\n",
       "        <matplotlib.axes._subplots.AxesSubplot object at 0x000001E287EEFE48>,\n",
       "        <matplotlib.axes._subplots.AxesSubplot object at 0x000001E288B80D08>,\n",
       "        <matplotlib.axes._subplots.AxesSubplot object at 0x000001E288B9FA88>],\n",
       "       [<matplotlib.axes._subplots.AxesSubplot object at 0x000001E288BBF808>,\n",
       "        <matplotlib.axes._subplots.AxesSubplot object at 0x000001E288BDE588>,\n",
       "        <matplotlib.axes._subplots.AxesSubplot object at 0x000001E288C01F88>,\n",
       "        <matplotlib.axes._subplots.AxesSubplot object at 0x000001E288C21D08>],\n",
       "       [<matplotlib.axes._subplots.AxesSubplot object at 0x000001E288C1D088>,\n",
       "        <matplotlib.axes._subplots.AxesSubplot object at 0x000001E288C47AC8>,\n",
       "        <matplotlib.axes._subplots.AxesSubplot object at 0x000001E288C79C08>,\n",
       "        <matplotlib.axes._subplots.AxesSubplot object at 0x000001E288CB4D48>],\n",
       "       [<matplotlib.axes._subplots.AxesSubplot object at 0x000001E288CECD48>,\n",
       "        <matplotlib.axes._subplots.AxesSubplot object at 0x000001E288D24E48>,\n",
       "        <matplotlib.axes._subplots.AxesSubplot object at 0x000001E288D5BF88>,\n",
       "        <matplotlib.axes._subplots.AxesSubplot object at 0x000001E288D960C8>]],\n",
       "      dtype=object)"
      ]
     },
     "execution_count": 15,
     "metadata": {},
     "output_type": "execute_result"
    },
    {
     "data": {
      "image/png": "[encoded data removed]",
      "text/plain": [
       "<Figure size 1440x1080 with 16 Axes>"
      ]
     },
     "metadata": {
      "needs_background": "light"
     },
     "output_type": "display_data"
    }
   ],
   "source": [
    "new_data_train.hist(bins=50, figsize=(20,15))"
   ]
  },
  {
   "cell_type": "code",
   "execution_count": 16,
   "metadata": {},
   "outputs": [
    {
     "data": {
      "text/plain": [
       "<matplotlib.axes._subplots.AxesSubplot at 0x1e285c43588>"
      ]
     },
     "execution_count": 16,
     "metadata": {},
     "output_type": "execute_result"
    },
    {
     "data": {
      "image/png": "[encoded data removed]",
      "text/plain": [
       "<Figure size 432x288 with 2 Axes>"
      ]
     },
     "metadata": {
      "needs_background": "light"
     },
     "output_type": "display_data"
    }
   ],
   "source": [
    "#check weather null values present or not\n",
    "sns.heatmap(new_data_train.isnull())"
   ]
  },
  {
   "cell_type": "markdown",
   "metadata": {},
   "source": [
    "From here you can observe that there is no null  values present in this dataset.."
   ]
  },
  {
   "cell_type": "code",
   "execution_count": 17,
   "metadata": {},
   "outputs": [
    {
     "data": {
      "text/plain": [
       "<matplotlib.axes._subplots.AxesSubplot at 0x1e287ee38c8>"
      ]
     },
     "execution_count": 17,
     "metadata": {},
     "output_type": "execute_result"
    },
    {
     "data": {
      "image/png": "[encoded data removed]",
      "text/plain": [
       "<Figure size 432x288 with 1 Axes>"
      ]
     },
     "metadata": {
      "needs_background": "light"
     },
     "output_type": "display_data"
    }
   ],
   "source": [
    "sns.scatterplot(x='CUISINE1',y='VOTES',hue='COST',data =new_data_train)"
   ]
  },
  {
   "cell_type": "markdown",
   "metadata": {},
   "source": [
    "From above you can observe that for cuisine1 votes range in between 5000 cost is good."
   ]
  },
  {
   "cell_type": "code",
   "execution_count": 18,
   "metadata": {},
   "outputs": [
    {
     "data": {
      "image/png": "[encoded data removed]",
      "text/plain": [
       "<Figure size 576x504 with 2 Axes>"
      ]
     },
     "metadata": {
      "needs_background": "light"
     },
     "output_type": "display_data"
    }
   ],
   "source": [
    "#to check Cor-relation\n",
    "corr_hmap=new_data_train.corr()\n",
    "plt.figure(figsize=(8,7))\n",
    "sns.heatmap(corr_hmap,annot=True)\n",
    "plt.show()\n"
   ]
  },
  {
   "cell_type": "markdown",
   "metadata": {},
   "source": [
    "From above you can observe that data look's perfect ."
   ]
  },
  {
   "cell_type": "code",
   "execution_count": 27,
   "metadata": {},
   "outputs": [
    {
     "data": {
      "text/plain": [
       "<matplotlib.axes._subplots.AxesSubplot at 0x1e28b828ec8>"
      ]
     },
     "execution_count": 27,
     "metadata": {},
     "output_type": "execute_result"
    },
    {
     "data": {
      "image/png": "[encoded data removed]",
      "text/plain": [
       "<Figure size 1080x360 with 1 Axes>"
      ]
     },
     "metadata": {
      "needs_background": "light"
     },
     "output_type": "display_data"
    }
   ],
   "source": [
    "plt.figure(figsize=(15,5))\n",
    "plt.subplots_adjust(left=0.125, bottom=0.1, right=0.9, top=0.9,\n",
    "                      wspace=0.5, hspace=0.2)\n",
    "sns.barplot(x='RATING', y=\"COST\", data=new_data_train)"
   ]
  },
  {
   "cell_type": "markdown",
   "metadata": {},
   "source": [
    "* From above you can observe that where the cost is in between 800-1000 in these range rating is high compare to all other cost ,And where the cost of food is 400 in this case rating for the particular food is too low compare to all other cases ..\n",
    "* And one thing we can come to final decision i.e. if the cost of food is low in most of the cases rating's also low.."
   ]
  },
  {
   "cell_type": "markdown",
   "metadata": {},
   "source": [
    "# Identify and Removal of skewness"
   ]
  },
  {
   "cell_type": "code",
   "execution_count": 28,
   "metadata": {},
   "outputs": [
    {
     "data": {
      "text/plain": [
       "TITLE1       0.094060\n",
       "TITLE2      -3.068802\n",
       "CUISINE1     0.053850\n",
       "CUISINE2    -0.127320\n",
       "CUISINE3    -0.918185\n",
       "CUISINE4    -2.152376\n",
       "CUISINE5    -4.078806\n",
       "CUISINE6    -6.963642\n",
       "CUISINE7   -10.636633\n",
       "CUISINE8   -13.853988\n",
       "CITY         0.203776\n",
       "LOCALITY     0.339891\n",
       "RATING      -2.214271\n",
       "VOTES       14.522617\n",
       "COST         3.978801\n",
       "dtype: float64"
      ]
     },
     "execution_count": 28,
     "metadata": {},
     "output_type": "execute_result"
    }
   ],
   "source": [
    "new_data_train.skew()"
   ]
  },
  {
   "cell_type": "markdown",
   "metadata": {},
   "source": [
    "From above you can observe that no other feature contains skewness.It's perfect upto now..."
   ]
  },
  {
   "cell_type": "markdown",
   "metadata": {},
   "source": [
    "And next step here is Building a machine learning model and implementing performance measures."
   ]
  },
  {
   "cell_type": "markdown",
   "metadata": {},
   "source": [
    "# Building Machine Learning Model"
   ]
  },
  {
   "cell_type": "code",
   "execution_count": 19,
   "metadata": {},
   "outputs": [],
   "source": [
    "# Classifying Independent and Dependent Features\n",
    "\n",
    "\n",
    "# Dependent Variable\n",
    "y = new_data_train.iloc[:, -1].values  \n",
    "\n",
    "# Independent Variables\n",
    "x= new_data_train.iloc[:,: -1].values\n",
    "\n"
   ]
  },
  {
   "cell_type": "code",
   "execution_count": 20,
   "metadata": {},
   "outputs": [],
   "source": [
    "x_train,x_test,y_train,y_test=train_test_split(x,y,test_size=.1,random_state=55)"
   ]
  },
  {
   "cell_type": "code",
   "execution_count": 21,
   "metadata": {},
   "outputs": [],
   "source": [
    "lr=LinearRegression(normalize=True)\n",
    "rfr=RandomForestRegressor()\n",
    "gbr=GradientBoostingRegressor()"
   ]
  },
  {
   "cell_type": "code",
   "execution_count": 22,
   "metadata": {
    "scrolled": true
   },
   "outputs": [
    {
     "name": "stdout",
     "output_type": "stream",
     "text": [
      "*********************** LinearRegression ************\n",
      "\n",
      "\n",
      "LinearRegression(copy_X=True, fit_intercept=True, n_jobs=None, normalize=True)\n",
      "\n",
      "\n",
      "score 0.19628844634584253\n",
      "\n",
      "\n",
      "Performance Measures:\n",
      "MAE 303.43438364736085\n",
      "MSE 257343.966919109\n",
      "RMSE 507.29081099415646\n",
      "R-square 0.23007151705908824\n",
      "*********************** RandomForestRegressor ************\n",
      "\n",
      "\n",
      "RandomForestRegressor(bootstrap=True, criterion='mse', max_depth=None,\n",
      "                      max_features='auto', max_leaf_nodes=None,\n",
      "                      min_impurity_decrease=0.0, min_impurity_split=None,\n",
      "                      min_samples_leaf=1, min_samples_split=2,\n",
      "                      min_weight_fraction_leaf=0.0, n_estimators=10,\n",
      "                      n_jobs=None, oob_score=False, random_state=None,\n",
      "                      verbose=0, warm_start=False)\n",
      "\n",
      "\n",
      "score 0.9443610500834325\n",
      "\n",
      "\n",
      "Performance Measures:\n",
      "MAE 182.42273631280722\n",
      "MSE 86518.24928345386\n",
      "RMSE 294.1398464734995\n",
      "R-square 0.7411524147428267\n",
      "*********************** GradientBoostingRegressor ************\n",
      "\n",
      "\n",
      "GradientBoostingRegressor(alpha=0.9, criterion='friedman_mse', init=None,\n",
      "                          learning_rate=0.1, loss='ls', max_depth=3,\n",
      "                          max_features=None, max_leaf_nodes=None,\n",
      "                          min_impurity_decrease=0.0, min_impurity_split=None,\n",
      "                          min_samples_leaf=1, min_samples_split=2,\n",
      "                          min_weight_fraction_leaf=0.0, n_estimators=100,\n",
      "                          n_iter_no_change=None, presort='auto',\n",
      "                          random_state=None, subsample=1.0, tol=0.0001,\n",
      "                          validation_fraction=0.1, verbose=0, warm_start=False)\n",
      "\n",
      "\n",
      "score 0.7122485923577259\n",
      "\n",
      "\n",
      "Performance Measures:\n",
      "MAE 191.08352986687999\n",
      "MSE 94068.85937645411\n",
      "RMSE 306.706471037789\n",
      "R-square 0.7185622998713583\n"
     ]
    }
   ],
   "source": [
    "#prepare models\n",
    "models=[]\n",
    "models.append(('LinearRegression',lr))\n",
    "models.append(('RandomForestRegressor',rfr)) \n",
    "models.append(('GradientBoostingRegressor',gbr))\n",
    "#evaluate each model\n",
    "Model=[]\n",
    "Score=[]\n",
    "MAE=[]\n",
    "MSE=[]\n",
    "RMSE=[]\n",
    "RSquare=[]\n",
    "for name,model in models:\n",
    "    print('***********************',name,'************')\n",
    "    Model.append(name)\n",
    "    print('\\n')\n",
    "    model.fit(x_train,y_train)\n",
    "    print(model)\n",
    "    pred=model.predict(x_test)\n",
    "    print('\\n')\n",
    "    sr=model.score(x_train,y_train)\n",
    "    print('score',sr)\n",
    "    Score.append(sr*100)\n",
    "    print('\\n')\n",
    "    print('Performance Measures:')\n",
    "    mae=metrics.mean_absolute_error(y_test, pred)\n",
    "    print('MAE',mae)\n",
    "    MAE.append(mae)\n",
    "    mse=metrics.mean_squared_error(y_test, pred)\n",
    "    print('MSE',mse)\n",
    "    MSE.append(mse)\n",
    "    rmse=np.sqrt(metrics.mean_squared_error(y_test, pred))\n",
    "    print('RMSE',rmse)\n",
    "    RMSE.append(rmse)\n",
    "    rsquare=metrics.r2_score(y_test,pred)\n",
    "    print('R-square',rsquare)\n",
    "    RSquare.append(rsquare)"
   ]
  },
  {
   "cell_type": "code",
   "execution_count": 23,
   "metadata": {},
   "outputs": [
    {
     "data": {
      "text/html": [
       "<div>\n",
       "<style scoped>\n",
       "    .dataframe tbody tr th:only-of-type {\n",
       "        vertical-align: middle;\n",
       "    }\n",
       "\n",
       "    .dataframe tbody tr th {\n",
       "        vertical-align: top;\n",
       "    }\n",
       "\n",
       "    .dataframe thead th {\n",
       "        text-align: right;\n",
       "    }\n",
       "</style>\n",
       "<table border=\"1\" class=\"dataframe\">\n",
       "  <thead>\n",
       "    <tr style=\"text-align: right;\">\n",
       "      <th></th>\n",
       "      <th>models</th>\n",
       "      <th>score</th>\n",
       "      <th>MAE</th>\n",
       "      <th>MSE</th>\n",
       "      <th>RMSE</th>\n",
       "      <th>RSquare</th>\n",
       "    </tr>\n",
       "  </thead>\n",
       "  <tbody>\n",
       "    <tr>\n",
       "      <td>0</td>\n",
       "      <td>LinearRegression</td>\n",
       "      <td>19.628845</td>\n",
       "      <td>303.434384</td>\n",
       "      <td>257343.966919</td>\n",
       "      <td>507.290811</td>\n",
       "      <td>0.230072</td>\n",
       "    </tr>\n",
       "    <tr>\n",
       "      <td>1</td>\n",
       "      <td>RandomForestRegressor</td>\n",
       "      <td>94.436105</td>\n",
       "      <td>182.422736</td>\n",
       "      <td>86518.249283</td>\n",
       "      <td>294.139846</td>\n",
       "      <td>0.741152</td>\n",
       "    </tr>\n",
       "    <tr>\n",
       "      <td>2</td>\n",
       "      <td>GradientBoostingRegressor</td>\n",
       "      <td>71.224859</td>\n",
       "      <td>191.083530</td>\n",
       "      <td>94068.859376</td>\n",
       "      <td>306.706471</td>\n",
       "      <td>0.718562</td>\n",
       "    </tr>\n",
       "  </tbody>\n",
       "</table>\n",
       "</div>"
      ],
      "text/plain": [
       "                      models      score         MAE            MSE  \\\n",
       "0           LinearRegression  19.628845  303.434384  257343.966919   \n",
       "1      RandomForestRegressor  94.436105  182.422736   86518.249283   \n",
       "2  GradientBoostingRegressor  71.224859  191.083530   94068.859376   \n",
       "\n",
       "         RMSE   RSquare  \n",
       "0  507.290811  0.230072  \n",
       "1  294.139846  0.741152  \n",
       "2  306.706471  0.718562  "
      ]
     },
     "execution_count": 23,
     "metadata": {},
     "output_type": "execute_result"
    }
   ],
   "source": [
    "result=pd.DataFrame({'models':Model,'score':Score,'MAE':MAE,'MSE':MSE,'RMSE':RMSE,'RSquare':RSquare},columns=['models','score','MAE','MSE','RMSE','RSquare'])\n",
    "result"
   ]
  },
  {
   "cell_type": "markdown",
   "metadata": {},
   "source": [
    "# Predicting Dataset"
   ]
  },
  {
   "cell_type": "code",
   "execution_count": 24,
   "metadata": {},
   "outputs": [
    {
     "name": "stdout",
     "output_type": "stream",
     "text": [
      "predicted cost [ 555.  325.  650. ...  815.  129. 1855.]\n",
      "actual cost [ 350  500  750 ...  500  150 3000]\n"
     ]
    }
   ],
   "source": [
    "pred=rfr.predict(x_test)\n",
    "print(\"predicted cost\",pred)\n",
    "print(\"actual cost\",y_test)"
   ]
  },
  {
   "cell_type": "markdown",
   "metadata": {},
   "source": [
    "# Saving model"
   ]
  },
  {
   "cell_type": "code",
   "execution_count": 25,
   "metadata": {},
   "outputs": [],
   "source": [
    "\n",
    "x=pd.DataFrame(pred)\n",
    "x.to_csv('linear_house.csv')"
   ]
  },
  {
   "cell_type": "code",
   "execution_count": 26,
   "metadata": {},
   "outputs": [
    {
     "data": {
      "text/plain": [
       "array([ 555.,  325.,  650., ...,  815.,  129., 1855.])"
      ]
     },
     "execution_count": 26,
     "metadata": {},
     "output_type": "execute_result"
    }
   ],
   "source": [
    "from sklearn.externals import joblib\n",
    "#save the model as a pickle in a file\n",
    "joblib.dump(rfr,'foodcost.obj')\n",
    "#load the model from a file\n",
    "rfr_from_joblib=joblib.load('foodcost.obj')\n",
    "#use the loaded model to make prediction\n",
    "rfr_from_joblib.predict(x_test)"
   ]
  }
 ],
 "metadata": {
  "kernelspec": {
   "display_name": "Python 3",
   "language": "python",
   "name": "python3"
  },
  "language_info": {
   "codemirror_mode": {
    "name": "ipython",
    "version": 3
   },
   "file_extension": ".py",
   "mimetype": "text/x-python",
   "name": "python",
   "nbconvert_exporter": "python",
   "pygments_lexer": "ipython3",
   "version": "3.7.4"
  }
 },
 "nbformat": 4,
 "nbformat_minor": 2
}
